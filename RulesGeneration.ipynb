{
  "nbformat": 4,
  "nbformat_minor": 0,
  "metadata": {
    "colab": {
      "name": "RulesGeneration.ipynb",
      "provenance": [],
      "collapsed_sections": []
    },
    "kernelspec": {
      "name": "python3",
      "display_name": "Python 3"
    },
    "language_info": {
      "name": "python"
    }
  },
  "cells": [
    {
      "cell_type": "markdown",
      "metadata": {
        "id": "H27SC8-ynKM3"
      },
      "source": [
        "# **Per Capita Violent Crimes Prediction**\n",
        "Serial Id: 14"
      ]
    },
    {
      "cell_type": "markdown",
      "metadata": {
        "id": "l7yXf_4IlQAV"
      },
      "source": [
        "# Mounting Google Drive"
      ]
    },
    {
      "cell_type": "code",
      "metadata": {
        "colab": {
          "base_uri": "https://localhost:8080/"
        },
        "id": "DlhW-h2E3wXa",
        "outputId": "7c8744a8-f13f-4952-9a94-4ec474b880b1"
      },
      "source": [
        "from google.colab import drive\n",
        "drive.mount('/content/drive')"
      ],
      "execution_count": null,
      "outputs": [
        {
          "output_type": "stream",
          "text": [
            "Mounted at /content/drive\n"
          ],
          "name": "stdout"
        }
      ]
    },
    {
      "cell_type": "markdown",
      "metadata": {
        "id": "nI7awpODlUVX"
      },
      "source": [
        "# Importing Libraries"
      ]
    },
    {
      "cell_type": "code",
      "metadata": {
        "id": "z7q-eooz4e9Q"
      },
      "source": [
        "import numpy as np\n",
        "import pandas as pd\n"
      ],
      "execution_count": null,
      "outputs": []
    },
    {
      "cell_type": "markdown",
      "metadata": {
        "id": "mPzO-iIglW-M"
      },
      "source": [
        "# Reading Discretized Data "
      ]
    },
    {
      "cell_type": "code",
      "metadata": {
        "id": "1e_iMKNqYh_g"
      },
      "source": [
        "df = pd.read_csv(\"/content/drive/MyDrive/desc.csv\", encoding='latin-1')"
      ],
      "execution_count": null,
      "outputs": []
    },
    {
      "cell_type": "code",
      "metadata": {
        "colab": {
          "base_uri": "https://localhost:8080/"
        },
        "id": "3wXnCc3P8_ee",
        "outputId": "21900f98-4c4e-4d7b-cb06-5b3257806f9d"
      },
      "source": [
        "df.shape"
      ],
      "execution_count": null,
      "outputs": [
        {
          "output_type": "execute_result",
          "data": {
            "text/plain": [
              "(1993, 43)"
            ]
          },
          "metadata": {
            "tags": []
          },
          "execution_count": 4
        }
      ]
    },
    {
      "cell_type": "code",
      "metadata": {
        "colab": {
          "base_uri": "https://localhost:8080/",
          "height": 270
        },
        "id": "cDLHdB9o9EWR",
        "outputId": "254d96f3-2959-4897-a768-a02d002dd72b"
      },
      "source": [
        "df.head(6)"
      ],
      "execution_count": null,
      "outputs": [
        {
          "output_type": "execute_result",
          "data": {
            "text/html": [
              "<div>\n",
              "<style scoped>\n",
              "    .dataframe tbody tr th:only-of-type {\n",
              "        vertical-align: middle;\n",
              "    }\n",
              "\n",
              "    .dataframe tbody tr th {\n",
              "        vertical-align: top;\n",
              "    }\n",
              "\n",
              "    .dataframe thead th {\n",
              "        text-align: right;\n",
              "    }\n",
              "</style>\n",
              "<table border=\"1\" class=\"dataframe\">\n",
              "  <thead>\n",
              "    <tr style=\"text-align: right;\">\n",
              "      <th></th>\n",
              "      <th>Unnamed: 0</th>\n",
              "      <th>population</th>\n",
              "      <th>racepctblack</th>\n",
              "      <th>racePctWhite</th>\n",
              "      <th>racePctHisp</th>\n",
              "      <th>agePct12t21</th>\n",
              "      <th>agePct16t24</th>\n",
              "      <th>pctUrban</th>\n",
              "      <th>medFamInc</th>\n",
              "      <th>perCapInc</th>\n",
              "      <th>blackPerCap</th>\n",
              "      <th>OtherPerCap</th>\n",
              "      <th>HispPerCap</th>\n",
              "      <th>PctBSorMore</th>\n",
              "      <th>PctEmplManu</th>\n",
              "      <th>PctEmplProfServ</th>\n",
              "      <th>PctOccupManu</th>\n",
              "      <th>PctKids2Par</th>\n",
              "      <th>PctYoungKids2Par</th>\n",
              "      <th>NumIlleg</th>\n",
              "      <th>PctIlleg</th>\n",
              "      <th>PctImmigRecent</th>\n",
              "      <th>PctRecImmig5</th>\n",
              "      <th>PctRecImmig10</th>\n",
              "      <th>PctSpeakEnglOnly</th>\n",
              "      <th>PersPerOccupHous</th>\n",
              "      <th>PersPerRentOccHous</th>\n",
              "      <th>PctPersOwnOccup</th>\n",
              "      <th>PctHousLess3BR</th>\n",
              "      <th>HousVacant</th>\n",
              "      <th>MedYrHousBuilt</th>\n",
              "      <th>PctHousNoPhone</th>\n",
              "      <th>OwnOccLowQuart</th>\n",
              "      <th>OwnOccMedVal</th>\n",
              "      <th>RentMedian</th>\n",
              "      <th>MedRentPctHousInc</th>\n",
              "      <th>MedOwnCostPctInc</th>\n",
              "      <th>MedOwnCostPctIncNoMtg</th>\n",
              "      <th>NumStreet</th>\n",
              "      <th>PctSameHouse85</th>\n",
              "      <th>PctSameCity85</th>\n",
              "      <th>PctUsePubTrans</th>\n",
              "      <th>ViolentCrimesPerPop</th>\n",
              "    </tr>\n",
              "  </thead>\n",
              "  <tbody>\n",
              "    <tr>\n",
              "      <th>0</th>\n",
              "      <td>0</td>\n",
              "      <td>1</td>\n",
              "      <td>1</td>\n",
              "      <td>4</td>\n",
              "      <td>1</td>\n",
              "      <td>2</td>\n",
              "      <td>2</td>\n",
              "      <td>4</td>\n",
              "      <td>2</td>\n",
              "      <td>2</td>\n",
              "      <td>2</td>\n",
              "      <td>2</td>\n",
              "      <td>2</td>\n",
              "      <td>2</td>\n",
              "      <td>1</td>\n",
              "      <td>2</td>\n",
              "      <td>1</td>\n",
              "      <td>3</td>\n",
              "      <td>3</td>\n",
              "      <td>1</td>\n",
              "      <td>1</td>\n",
              "      <td>1</td>\n",
              "      <td>1</td>\n",
              "      <td>1</td>\n",
              "      <td>4</td>\n",
              "      <td>2</td>\n",
              "      <td>2</td>\n",
              "      <td>3</td>\n",
              "      <td>3</td>\n",
              "      <td>1</td>\n",
              "      <td>3</td>\n",
              "      <td>1</td>\n",
              "      <td>1</td>\n",
              "      <td>1</td>\n",
              "      <td>2</td>\n",
              "      <td>2</td>\n",
              "      <td>2</td>\n",
              "      <td>1</td>\n",
              "      <td>1</td>\n",
              "      <td>2</td>\n",
              "      <td>3</td>\n",
              "      <td>1</td>\n",
              "      <td>1</td>\n",
              "    </tr>\n",
              "    <tr>\n",
              "      <th>1</th>\n",
              "      <td>1</td>\n",
              "      <td>1</td>\n",
              "      <td>1</td>\n",
              "      <td>3</td>\n",
              "      <td>1</td>\n",
              "      <td>2</td>\n",
              "      <td>2</td>\n",
              "      <td>4</td>\n",
              "      <td>2</td>\n",
              "      <td>2</td>\n",
              "      <td>2</td>\n",
              "      <td>1</td>\n",
              "      <td>2</td>\n",
              "      <td>2</td>\n",
              "      <td>3</td>\n",
              "      <td>1</td>\n",
              "      <td>2</td>\n",
              "      <td>2</td>\n",
              "      <td>3</td>\n",
              "      <td>1</td>\n",
              "      <td>1</td>\n",
              "      <td>3</td>\n",
              "      <td>2</td>\n",
              "      <td>1</td>\n",
              "      <td>4</td>\n",
              "      <td>1</td>\n",
              "      <td>1</td>\n",
              "      <td>2</td>\n",
              "      <td>4</td>\n",
              "      <td>1</td>\n",
              "      <td>3</td>\n",
              "      <td>1</td>\n",
              "      <td>1</td>\n",
              "      <td>1</td>\n",
              "      <td>2</td>\n",
              "      <td>2</td>\n",
              "      <td>2</td>\n",
              "      <td>1</td>\n",
              "      <td>1</td>\n",
              "      <td>2</td>\n",
              "      <td>3</td>\n",
              "      <td>2</td>\n",
              "      <td>3</td>\n",
              "    </tr>\n",
              "    <tr>\n",
              "      <th>2</th>\n",
              "      <td>2</td>\n",
              "      <td>1</td>\n",
              "      <td>2</td>\n",
              "      <td>3</td>\n",
              "      <td>1</td>\n",
              "      <td>2</td>\n",
              "      <td>2</td>\n",
              "      <td>1</td>\n",
              "      <td>2</td>\n",
              "      <td>2</td>\n",
              "      <td>2</td>\n",
              "      <td>2</td>\n",
              "      <td>2</td>\n",
              "      <td>1</td>\n",
              "      <td>2</td>\n",
              "      <td>2</td>\n",
              "      <td>2</td>\n",
              "      <td>2</td>\n",
              "      <td>2</td>\n",
              "      <td>1</td>\n",
              "      <td>2</td>\n",
              "      <td>1</td>\n",
              "      <td>1</td>\n",
              "      <td>1</td>\n",
              "      <td>4</td>\n",
              "      <td>2</td>\n",
              "      <td>2</td>\n",
              "      <td>2</td>\n",
              "      <td>3</td>\n",
              "      <td>1</td>\n",
              "      <td>3</td>\n",
              "      <td>2</td>\n",
              "      <td>1</td>\n",
              "      <td>1</td>\n",
              "      <td>2</td>\n",
              "      <td>2</td>\n",
              "      <td>2</td>\n",
              "      <td>2</td>\n",
              "      <td>1</td>\n",
              "      <td>3</td>\n",
              "      <td>3</td>\n",
              "      <td>1</td>\n",
              "      <td>2</td>\n",
              "    </tr>\n",
              "    <tr>\n",
              "      <th>3</th>\n",
              "      <td>3</td>\n",
              "      <td>1</td>\n",
              "      <td>4</td>\n",
              "      <td>1</td>\n",
              "      <td>1</td>\n",
              "      <td>3</td>\n",
              "      <td>2</td>\n",
              "      <td>4</td>\n",
              "      <td>3</td>\n",
              "      <td>2</td>\n",
              "      <td>2</td>\n",
              "      <td>2</td>\n",
              "      <td>2</td>\n",
              "      <td>2</td>\n",
              "      <td>2</td>\n",
              "      <td>2</td>\n",
              "      <td>2</td>\n",
              "      <td>3</td>\n",
              "      <td>4</td>\n",
              "      <td>1</td>\n",
              "      <td>2</td>\n",
              "      <td>1</td>\n",
              "      <td>1</td>\n",
              "      <td>1</td>\n",
              "      <td>4</td>\n",
              "      <td>4</td>\n",
              "      <td>4</td>\n",
              "      <td>4</td>\n",
              "      <td>1</td>\n",
              "      <td>1</td>\n",
              "      <td>3</td>\n",
              "      <td>1</td>\n",
              "      <td>1</td>\n",
              "      <td>1</td>\n",
              "      <td>3</td>\n",
              "      <td>3</td>\n",
              "      <td>3</td>\n",
              "      <td>2</td>\n",
              "      <td>1</td>\n",
              "      <td>3</td>\n",
              "      <td>3</td>\n",
              "      <td>2</td>\n",
              "      <td>1</td>\n",
              "    </tr>\n",
              "    <tr>\n",
              "      <th>4</th>\n",
              "      <td>4</td>\n",
              "      <td>1</td>\n",
              "      <td>1</td>\n",
              "      <td>4</td>\n",
              "      <td>1</td>\n",
              "      <td>2</td>\n",
              "      <td>1</td>\n",
              "      <td>4</td>\n",
              "      <td>2</td>\n",
              "      <td>2</td>\n",
              "      <td>2</td>\n",
              "      <td>3</td>\n",
              "      <td>2</td>\n",
              "      <td>2</td>\n",
              "      <td>3</td>\n",
              "      <td>2</td>\n",
              "      <td>2</td>\n",
              "      <td>4</td>\n",
              "      <td>4</td>\n",
              "      <td>1</td>\n",
              "      <td>1</td>\n",
              "      <td>1</td>\n",
              "      <td>1</td>\n",
              "      <td>1</td>\n",
              "      <td>4</td>\n",
              "      <td>3</td>\n",
              "      <td>2</td>\n",
              "      <td>4</td>\n",
              "      <td>1</td>\n",
              "      <td>1</td>\n",
              "      <td>3</td>\n",
              "      <td>1</td>\n",
              "      <td>2</td>\n",
              "      <td>2</td>\n",
              "      <td>2</td>\n",
              "      <td>1</td>\n",
              "      <td>3</td>\n",
              "      <td>1</td>\n",
              "      <td>1</td>\n",
              "      <td>3</td>\n",
              "      <td>3</td>\n",
              "      <td>1</td>\n",
              "      <td>1</td>\n",
              "    </tr>\n",
              "    <tr>\n",
              "      <th>5</th>\n",
              "      <td>5</td>\n",
              "      <td>1</td>\n",
              "      <td>1</td>\n",
              "      <td>3</td>\n",
              "      <td>1</td>\n",
              "      <td>2</td>\n",
              "      <td>2</td>\n",
              "      <td>4</td>\n",
              "      <td>3</td>\n",
              "      <td>3</td>\n",
              "      <td>4</td>\n",
              "      <td>2</td>\n",
              "      <td>3</td>\n",
              "      <td>4</td>\n",
              "      <td>1</td>\n",
              "      <td>4</td>\n",
              "      <td>1</td>\n",
              "      <td>3</td>\n",
              "      <td>4</td>\n",
              "      <td>1</td>\n",
              "      <td>1</td>\n",
              "      <td>2</td>\n",
              "      <td>2</td>\n",
              "      <td>3</td>\n",
              "      <td>2</td>\n",
              "      <td>2</td>\n",
              "      <td>1</td>\n",
              "      <td>2</td>\n",
              "      <td>3</td>\n",
              "      <td>1</td>\n",
              "      <td>1</td>\n",
              "      <td>1</td>\n",
              "      <td>4</td>\n",
              "      <td>4</td>\n",
              "      <td>3</td>\n",
              "      <td>2</td>\n",
              "      <td>3</td>\n",
              "      <td>1</td>\n",
              "      <td>1</td>\n",
              "      <td>2</td>\n",
              "      <td>3</td>\n",
              "      <td>1</td>\n",
              "      <td>1</td>\n",
              "    </tr>\n",
              "  </tbody>\n",
              "</table>\n",
              "</div>"
            ],
            "text/plain": [
              "   Unnamed: 0  population  ...  PctUsePubTrans  ViolentCrimesPerPop\n",
              "0           0           1  ...               1                    1\n",
              "1           1           1  ...               2                    3\n",
              "2           2           1  ...               1                    2\n",
              "3           3           1  ...               2                    1\n",
              "4           4           1  ...               1                    1\n",
              "5           5           1  ...               1                    1\n",
              "\n",
              "[6 rows x 43 columns]"
            ]
          },
          "metadata": {
            "tags": []
          },
          "execution_count": 32
        }
      ]
    },
    {
      "cell_type": "markdown",
      "metadata": {
        "id": "Eb69xVoIlewH"
      },
      "source": [
        "# Selected Feature Names from GA"
      ]
    },
    {
      "cell_type": "code",
      "metadata": {
        "id": "ogfePLk58noU"
      },
      "source": [
        "included_cols = ['population',\n",
        " 'racepctblack',\n",
        " 'racePctWhite',\n",
        " 'racePctHisp',\n",
        " 'agePct12t21',\n",
        " 'agePct16t24',\n",
        " 'pctUrban',\n",
        " 'medFamInc',\n",
        " 'perCapInc',\n",
        " 'blackPerCap',\n",
        " 'OtherPerCap',\n",
        " 'HispPerCap',\n",
        " 'PctBSorMore',\n",
        " 'PctEmplManu',\n",
        " 'PctEmplProfServ',\n",
        " 'PctOccupManu',\n",
        " 'PctKids2Par',\n",
        " 'PctYoungKids2Par',\n",
        " 'NumIlleg',\n",
        " 'PctIlleg',\n",
        " 'PctImmigRecent',\n",
        " 'PctRecImmig5',\n",
        " 'PctRecImmig10',\n",
        " 'PctSpeakEnglOnly',\n",
        " 'PersPerOccupHous',\n",
        " 'PersPerRentOccHous',\n",
        " 'PctPersOwnOccup',\n",
        " 'PctHousLess3BR',\n",
        " 'HousVacant',\n",
        " 'MedYrHousBuilt',\n",
        " 'PctHousNoPhone',\n",
        " 'OwnOccLowQuart',\n",
        " 'OwnOccMedVal',\n",
        " 'RentMedian',\n",
        " 'MedRentPctHousInc',\n",
        " 'MedOwnCostPctInc',\n",
        " 'MedOwnCostPctIncNoMtg',\n",
        " 'NumStreet',\n",
        " 'PctSameHouse85',\n",
        " 'PctSameCity85',\n",
        " 'PctUsePubTrans']"
      ],
      "execution_count": null,
      "outputs": []
    },
    {
      "cell_type": "markdown",
      "metadata": {
        "id": "26A_H2qYlmWj"
      },
      "source": [
        "# Train Decision Tree"
      ]
    },
    {
      "cell_type": "code",
      "metadata": {
        "colab": {
          "base_uri": "https://localhost:8080/"
        },
        "id": "A3FKcv8y4ayd",
        "outputId": "cf825f20-e3f7-49a8-9625-848a9fbabfab"
      },
      "source": [
        "from matplotlib import pyplot as plt\n",
        "from sklearn.tree import DecisionTreeClassifier \n",
        "from sklearn import tree\n",
        "from sklearn import preprocessing\n",
        "le = preprocessing.LabelEncoder()\n",
        "\n",
        "\n",
        "data = df.iloc[:,1:42].values\n",
        "target = df.ViolentCrimesPerPop.values\n",
        "print(data)\n",
        "#print(len(y))\n",
        "clf = DecisionTreeClassifier(max_depth=4.5, random_state=42)\n",
        "clf.fit(data, target)"
      ],
      "execution_count": null,
      "outputs": [
        {
          "output_type": "stream",
          "text": [
            "[[1 1 4 ... 2 3 1]\n",
            " [1 1 3 ... 2 3 2]\n",
            " [1 2 3 ... 3 3 1]\n",
            " ...\n",
            " [1 1 3 ... 3 4 1]\n",
            " [1 1 4 ... 3 3 2]\n",
            " [1 1 2 ... 2 2 1]]\n"
          ],
          "name": "stdout"
        },
        {
          "output_type": "execute_result",
          "data": {
            "text/plain": [
              "DecisionTreeClassifier(ccp_alpha=0.0, class_weight=None, criterion='gini',\n",
              "                       max_depth=4.5, max_features=None, max_leaf_nodes=None,\n",
              "                       min_impurity_decrease=0.0, min_impurity_split=None,\n",
              "                       min_samples_leaf=1, min_samples_split=2,\n",
              "                       min_weight_fraction_leaf=0.0, presort='deprecated',\n",
              "                       random_state=42, splitter='best')"
            ]
          },
          "metadata": {
            "tags": []
          },
          "execution_count": 33
        }
      ]
    },
    {
      "cell_type": "markdown",
      "metadata": {
        "id": "Gel8OS4xlzQu"
      },
      "source": [
        "# Generate Rules"
      ]
    },
    {
      "cell_type": "code",
      "metadata": {
        "id": "MSSEG-cKpOUB"
      },
      "source": [
        "from sklearn.tree import _tree\n",
        "\n",
        "def tree_to_code(tree, feature_names):\n",
        "    tree_ = tree.tree_\n",
        "    feature_name = [\n",
        "        feature_names[i] if i != _tree.TREE_UNDEFINED else \"undefined!\"        #check if feature is valid for tree node\n",
        "        for i in tree_.feature\n",
        "    ]\n",
        "    feature_names = [f.replace(\" \", \"_\")[:-5] for f in feature_names]\n",
        "    print(\"def predict({}):\".format(\", \".join(feature_names)))\n",
        "\n",
        "    def recurse(node, depth):\n",
        "        indent = \"    \" * depth\n",
        "        if tree_.feature[node] != _tree.TREE_UNDEFINED:\n",
        "            name = feature_name[node]\n",
        "            threshold = tree_.threshold[node]\n",
        "            print(\"{}if {} <= {}:\".format(indent, name, np.round(threshold,2)))     #indent for nested tree and round to two decimals\n",
        "            recurse(tree_.children_left[node], depth + 1)\n",
        "            print(\"{}else:  # if {} > {}\".format(indent, name, np.round(threshold,2)))\n",
        "            recurse(tree_.children_right[node], depth + 1)\n",
        "            \n",
        "        else:                                        #for leaf node\n",
        "            print(\"{}return {}\".format(indent, tree_.value[node]))\n",
        "   \n",
        "   #visit the first node with start depth as 1\n",
        "    recurse(0, 1)\n"
      ],
      "execution_count": null,
      "outputs": []
    },
    {
      "cell_type": "code",
      "metadata": {
        "colab": {
          "base_uri": "https://localhost:8080/"
        },
        "id": "aez4DIxwF7_k",
        "outputId": "f4c213af-d98c-4ec9-9285-63f688a1e2f4"
      },
      "source": [
        "tree_to_code(clf, included_cols)"
      ],
      "execution_count": null,
      "outputs": [
        {
          "output_type": "stream",
          "text": [
            "def predict(popul, racepct, racePct, racePc, agePct, agePct, pct, medF, perC, blackP, OtherP, HispP, PctBSo, PctEmp, PctEmplPro, PctOccu, PctKid, PctYoungKid, Num, Pct, PctImmigR, PctRecI, PctRecIm, PctSpeakEng, PersPerOccu, PersPerRentOc, PctPersOwn, PctHousLe, HousV, MedYrHous, PctHousNo, OwnOccLow, OwnOccM, RentM, MedRentPctHo, MedOwnCostP, MedOwnCostPctInc, NumS, PctSameHo, PctSameC, PctUsePub):\n",
            "    if PctIlleg <= 1.5:\n",
            "        if PctKids2Par <= 3.5:\n",
            "            if blackPerCap <= 1.5:\n",
            "                if racepctblack <= 1.5:\n",
            "                    return [[315.  44.   5.]]\n",
            "                else:  # if racepctblack > 1.5\n",
            "                    return [[12. 12.  0.]]\n",
            "            else:  # if blackPerCap > 1.5\n",
            "                if OwnOccLowQuart <= 2.5:\n",
            "                    return [[260.   6.   6.]]\n",
            "                else:  # if OwnOccLowQuart > 2.5\n",
            "                    return [[63.  8.  0.]]\n",
            "        else:  # if PctKids2Par > 3.5\n",
            "            if PctSpeakEnglOnly <= 1.5:\n",
            "                if PctRecImmig5 <= 3.5:\n",
            "                    return [[0. 1. 0.]]\n",
            "                else:  # if PctRecImmig5 > 3.5\n",
            "                    return [[2. 0. 0.]]\n",
            "            else:  # if PctSpeakEnglOnly > 1.5\n",
            "                if PctEmplProfServ <= 3.5:\n",
            "                    return [[546.   1.   0.]]\n",
            "                else:  # if PctEmplProfServ > 3.5\n",
            "                    return [[31.  0.  1.]]\n",
            "    else:  # if PctIlleg > 1.5\n",
            "        if PctIlleg <= 2.5:\n",
            "            if racePctWhite <= 3.5:\n",
            "                if MedOwnCostPctIncNoMtg <= 2.5:\n",
            "                    return [[ 88. 118.  28.]]\n",
            "                else:  # if MedOwnCostPctIncNoMtg > 2.5\n",
            "                    return [[43. 14.  1.]]\n",
            "            else:  # if racePctWhite > 3.5\n",
            "                if HousVacant <= 2.5:\n",
            "                    return [[93. 26.  3.]]\n",
            "                else:  # if HousVacant > 2.5\n",
            "                    return [[0. 0. 2.]]\n",
            "        else:  # if PctIlleg > 2.5\n",
            "            if PctKids2Par <= 1.5:\n",
            "                if PctHousLess3BR <= 3.5:\n",
            "                    return [[13. 46. 45.]]\n",
            "                else:  # if PctHousLess3BR > 3.5\n",
            "                    return [[ 0.  2. 20.]]\n",
            "            else:  # if PctKids2Par > 1.5\n",
            "                if PctSameCity85 <= 1.5:\n",
            "                    return [[10.  1.  1.]]\n",
            "                else:  # if PctSameCity85 > 1.5\n",
            "                    return [[30. 64. 32.]]\n"
          ],
          "name": "stdout"
        }
      ]
    },
    {
      "cell_type": "markdown",
      "metadata": {
        "id": "W_0HRXYglIOo"
      },
      "source": [
        "# Generate Rules in Text Format"
      ]
    },
    {
      "cell_type": "code",
      "metadata": {
        "id": "6w4VlLbOrZNR"
      },
      "source": [
        "def get_rules(tree, feature_names, class_names):\n",
        "    tree_ = tree.tree_\n",
        "    feature_name = [\n",
        "        feature_names[i] if i != _tree.TREE_UNDEFINED else \"undefined!\"   #get the valid feature name\n",
        "        for i in tree_.feature\n",
        "    ]\n",
        "\n",
        "    #define two lists\n",
        "    paths = []\n",
        "    path = []\n",
        "    \n",
        "    def recurse(node, path, paths):\n",
        "        \n",
        "        if tree_.feature[node] != _tree.TREE_UNDEFINED:\n",
        "            name = feature_name[node]\n",
        "            threshold = tree_.threshold[node]\n",
        "            p1, p2 = list(path), list(path)\n",
        "            p1 += [f\"({name} <= {np.round(threshold, 3)})\"]       #indent for nested tree and round to two decimals and add path to list\n",
        "            recurse(tree_.children_left[node], p1, paths)         # recurse for left leaf\n",
        "            p2 += [f\"({name} > {np.round(threshold, 3)})\"]        #add path to list for greater than value\n",
        "            recurse(tree_.children_right[node], p2, paths)        # recurse for right leaf\n",
        "        else:\n",
        "            path += [(tree_.value[node], tree_.n_node_samples[node])]        # else simple add path for leaf\n",
        "            paths += [path]                                                  # adding list to list\n",
        "\n",
        "    recurse(0, path, paths)                 # call recurse with start node and lists\n",
        "    \n",
        "\n",
        "    # sort by samples count\n",
        "    samples_count = [p[-1][1] for p in paths]\n",
        "    j = list(np.argsort(samples_count))\n",
        "    paths = [paths[i] for i in reversed(j)]\n",
        "    for p in paths:\n",
        "        print(p)\n",
        "    rules = []\n",
        "    for path in paths:\n",
        "        rule = \"if \"\n",
        "        \n",
        "        for p in path[:-1]:                    #for all paths in list except last\n",
        "            if rule != \"if \":\n",
        "                rule += \" and \"\n",
        "            rule += str(p)\n",
        "        rule += \" then \"\n",
        "        if class_names is None:     #for regressor\n",
        "            rule += \"response: \"+str(np.round(path[-1][0][0][0],3))\n",
        "        else:\n",
        "            classes = path[-1][0][0]     #for classifier\n",
        "            l = np.argmax(classes)\n",
        "            rule += f\"class: {class_names[l]} (proba: {np.round(100.0*classes[l]/np.sum(classes),2)}%)\"       #defining class selection with probability to 2 decimal place\n",
        "        rule += f\" | based on {path[-1][1]:,} samples\"\n",
        "        rules += [rule]\n",
        "        \n",
        "    return rules"
      ],
      "execution_count": null,
      "outputs": []
    },
    {
      "cell_type": "code",
      "metadata": {
        "colab": {
          "base_uri": "https://localhost:8080/"
        },
        "id": "1XfOtlgsAglB",
        "outputId": "88fe836a-60cd-458b-da43-9767265f4fe4"
      },
      "source": [
        "get_rules(clf, included_cols, y)"
      ],
      "execution_count": null,
      "outputs": [
        {
          "output_type": "stream",
          "text": [
            "['(PctIlleg <= 1.5)', '(PctKids2Par > 3.5)', '(PctSpeakEnglOnly > 1.5)', '(PctEmplProfServ <= 3.5)', (array([[546.,   1.,   0.]]), 547)]\n",
            "['(PctIlleg <= 1.5)', '(PctKids2Par <= 3.5)', '(blackPerCap <= 1.5)', '(racepctblack <= 1.5)', (array([[315.,  44.,   5.]]), 364)]\n",
            "['(PctIlleg <= 1.5)', '(PctKids2Par <= 3.5)', '(blackPerCap > 1.5)', '(OwnOccLowQuart <= 2.5)', (array([[260.,   6.,   6.]]), 272)]\n",
            "['(PctIlleg > 1.5)', '(PctIlleg <= 2.5)', '(racePctWhite <= 3.5)', '(MedOwnCostPctIncNoMtg <= 2.5)', (array([[ 88., 118.,  28.]]), 234)]\n",
            "['(PctIlleg > 1.5)', '(PctIlleg > 2.5)', '(PctKids2Par > 1.5)', '(PctSameCity85 > 1.5)', (array([[30., 64., 32.]]), 126)]\n",
            "['(PctIlleg > 1.5)', '(PctIlleg <= 2.5)', '(racePctWhite > 3.5)', '(HousVacant <= 2.5)', (array([[93., 26.,  3.]]), 122)]\n",
            "['(PctIlleg > 1.5)', '(PctIlleg > 2.5)', '(PctKids2Par <= 1.5)', '(PctHousLess3BR <= 3.5)', (array([[13., 46., 45.]]), 104)]\n",
            "['(PctIlleg <= 1.5)', '(PctKids2Par <= 3.5)', '(blackPerCap > 1.5)', '(OwnOccLowQuart > 2.5)', (array([[63.,  8.,  0.]]), 71)]\n",
            "['(PctIlleg > 1.5)', '(PctIlleg <= 2.5)', '(racePctWhite <= 3.5)', '(MedOwnCostPctIncNoMtg > 2.5)', (array([[43., 14.,  1.]]), 58)]\n",
            "['(PctIlleg <= 1.5)', '(PctKids2Par > 3.5)', '(PctSpeakEnglOnly > 1.5)', '(PctEmplProfServ > 3.5)', (array([[31.,  0.,  1.]]), 32)]\n",
            "['(PctIlleg <= 1.5)', '(PctKids2Par <= 3.5)', '(blackPerCap <= 1.5)', '(racepctblack > 1.5)', (array([[12., 12.,  0.]]), 24)]\n",
            "['(PctIlleg > 1.5)', '(PctIlleg > 2.5)', '(PctKids2Par <= 1.5)', '(PctHousLess3BR > 3.5)', (array([[ 0.,  2., 20.]]), 22)]\n",
            "['(PctIlleg > 1.5)', '(PctIlleg > 2.5)', '(PctKids2Par > 1.5)', '(PctSameCity85 <= 1.5)', (array([[10.,  1.,  1.]]), 12)]\n",
            "['(PctIlleg > 1.5)', '(PctIlleg <= 2.5)', '(racePctWhite > 3.5)', '(HousVacant > 2.5)', (array([[0., 0., 2.]]), 2)]\n",
            "['(PctIlleg <= 1.5)', '(PctKids2Par > 3.5)', '(PctSpeakEnglOnly <= 1.5)', '(PctRecImmig5 > 3.5)', (array([[2., 0., 0.]]), 2)]\n",
            "['(PctIlleg <= 1.5)', '(PctKids2Par > 3.5)', '(PctSpeakEnglOnly <= 1.5)', '(PctRecImmig5 <= 3.5)', (array([[0., 1., 0.]]), 1)]\n"
          ],
          "name": "stdout"
        },
        {
          "output_type": "execute_result",
          "data": {
            "text/plain": [
              "['if (PctIlleg <= 1.5) and (PctKids2Par > 3.5) and (PctSpeakEnglOnly > 1.5) and (PctEmplProfServ <= 3.5) then class: 1 (proba: 99.82%) | based on 547 samples',\n",
              " 'if (PctIlleg <= 1.5) and (PctKids2Par <= 3.5) and (blackPerCap <= 1.5) and (racepctblack <= 1.5) then class: 1 (proba: 86.54%) | based on 364 samples',\n",
              " 'if (PctIlleg <= 1.5) and (PctKids2Par <= 3.5) and (blackPerCap > 1.5) and (OwnOccLowQuart <= 2.5) then class: 1 (proba: 95.59%) | based on 272 samples',\n",
              " 'if (PctIlleg > 1.5) and (PctIlleg <= 2.5) and (racePctWhite <= 3.5) and (MedOwnCostPctIncNoMtg <= 2.5) then class: 3 (proba: 50.43%) | based on 234 samples',\n",
              " 'if (PctIlleg > 1.5) and (PctIlleg > 2.5) and (PctKids2Par > 1.5) and (PctSameCity85 > 1.5) then class: 3 (proba: 50.79%) | based on 126 samples',\n",
              " 'if (PctIlleg > 1.5) and (PctIlleg <= 2.5) and (racePctWhite > 3.5) and (HousVacant <= 2.5) then class: 1 (proba: 76.23%) | based on 122 samples',\n",
              " 'if (PctIlleg > 1.5) and (PctIlleg > 2.5) and (PctKids2Par <= 1.5) and (PctHousLess3BR <= 3.5) then class: 3 (proba: 44.23%) | based on 104 samples',\n",
              " 'if (PctIlleg <= 1.5) and (PctKids2Par <= 3.5) and (blackPerCap > 1.5) and (OwnOccLowQuart > 2.5) then class: 1 (proba: 88.73%) | based on 71 samples',\n",
              " 'if (PctIlleg > 1.5) and (PctIlleg <= 2.5) and (racePctWhite <= 3.5) and (MedOwnCostPctIncNoMtg > 2.5) then class: 1 (proba: 74.14%) | based on 58 samples',\n",
              " 'if (PctIlleg <= 1.5) and (PctKids2Par > 3.5) and (PctSpeakEnglOnly > 1.5) and (PctEmplProfServ > 3.5) then class: 1 (proba: 96.88%) | based on 32 samples',\n",
              " 'if (PctIlleg <= 1.5) and (PctKids2Par <= 3.5) and (blackPerCap <= 1.5) and (racepctblack > 1.5) then class: 1 (proba: 50.0%) | based on 24 samples',\n",
              " 'if (PctIlleg > 1.5) and (PctIlleg > 2.5) and (PctKids2Par <= 1.5) and (PctHousLess3BR > 3.5) then class: 2 (proba: 90.91%) | based on 22 samples',\n",
              " 'if (PctIlleg > 1.5) and (PctIlleg > 2.5) and (PctKids2Par > 1.5) and (PctSameCity85 <= 1.5) then class: 1 (proba: 83.33%) | based on 12 samples',\n",
              " 'if (PctIlleg > 1.5) and (PctIlleg <= 2.5) and (racePctWhite > 3.5) and (HousVacant > 2.5) then class: 2 (proba: 100.0%) | based on 2 samples',\n",
              " 'if (PctIlleg <= 1.5) and (PctKids2Par > 3.5) and (PctSpeakEnglOnly <= 1.5) and (PctRecImmig5 > 3.5) then class: 1 (proba: 100.0%) | based on 2 samples',\n",
              " 'if (PctIlleg <= 1.5) and (PctKids2Par > 3.5) and (PctSpeakEnglOnly <= 1.5) and (PctRecImmig5 <= 3.5) then class: 3 (proba: 100.0%) | based on 1 samples']"
            ]
          },
          "metadata": {
            "tags": []
          },
          "execution_count": 31
        }
      ]
    },
    {
      "cell_type": "code",
      "metadata": {
        "colab": {
          "base_uri": "https://localhost:8080/"
        },
        "id": "KyOvbuXv7--R",
        "outputId": "67955d04-ef4d-45ac-9091-1c2a76b2755e"
      },
      "source": [
        "rules = get_rules(clf, included_cols, y)\n",
        "for r in rules:\n",
        "    print(r)"
      ],
      "execution_count": null,
      "outputs": [
        {
          "output_type": "stream",
          "text": [
            "if (PctIlleg <= 1.5) and (PctKids2Par > 3.5) and (PctSpeakEnglOnly > 1.5) and (PctEmplProfServ <= 3.5) then class: 1 (proba: 99.82%) | based on 547 samples\n",
            "if (PctIlleg <= 1.5) and (PctKids2Par <= 3.5) and (blackPerCap <= 1.5) and (racepctblack <= 1.5) then class: 1 (proba: 86.54%) | based on 364 samples\n",
            "if (PctIlleg <= 1.5) and (PctKids2Par <= 3.5) and (blackPerCap > 1.5) and (OwnOccLowQuart <= 2.5) then class: 1 (proba: 95.59%) | based on 272 samples\n",
            "if (PctIlleg > 1.5) and (PctIlleg <= 2.5) and (racePctWhite <= 3.5) and (MedOwnCostPctIncNoMtg <= 2.5) then class: 3 (proba: 50.43%) | based on 234 samples\n",
            "if (PctIlleg > 1.5) and (PctIlleg > 2.5) and (PctKids2Par > 1.5) and (PctSameCity85 > 1.5) then class: 3 (proba: 50.79%) | based on 126 samples\n",
            "if (PctIlleg > 1.5) and (PctIlleg <= 2.5) and (racePctWhite > 3.5) and (HousVacant <= 2.5) then class: 1 (proba: 76.23%) | based on 122 samples\n",
            "if (PctIlleg > 1.5) and (PctIlleg > 2.5) and (PctKids2Par <= 1.5) and (PctHousLess3BR <= 3.5) then class: 3 (proba: 44.23%) | based on 104 samples\n",
            "if (PctIlleg <= 1.5) and (PctKids2Par <= 3.5) and (blackPerCap > 1.5) and (OwnOccLowQuart > 2.5) then class: 1 (proba: 88.73%) | based on 71 samples\n",
            "if (PctIlleg > 1.5) and (PctIlleg <= 2.5) and (racePctWhite <= 3.5) and (MedOwnCostPctIncNoMtg > 2.5) then class: 1 (proba: 74.14%) | based on 58 samples\n",
            "if (PctIlleg <= 1.5) and (PctKids2Par > 3.5) and (PctSpeakEnglOnly > 1.5) and (PctEmplProfServ > 3.5) then class: 1 (proba: 96.88%) | based on 32 samples\n",
            "if (PctIlleg <= 1.5) and (PctKids2Par <= 3.5) and (blackPerCap <= 1.5) and (racepctblack > 1.5) then class: 1 (proba: 50.0%) | based on 24 samples\n",
            "if (PctIlleg > 1.5) and (PctIlleg > 2.5) and (PctKids2Par <= 1.5) and (PctHousLess3BR > 3.5) then class: 2 (proba: 90.91%) | based on 22 samples\n",
            "if (PctIlleg > 1.5) and (PctIlleg > 2.5) and (PctKids2Par > 1.5) and (PctSameCity85 <= 1.5) then class: 1 (proba: 83.33%) | based on 12 samples\n",
            "if (PctIlleg > 1.5) and (PctIlleg <= 2.5) and (racePctWhite > 3.5) and (HousVacant > 2.5) then class: 2 (proba: 100.0%) | based on 2 samples\n",
            "if (PctIlleg <= 1.5) and (PctKids2Par > 3.5) and (PctSpeakEnglOnly <= 1.5) and (PctRecImmig5 > 3.5) then class: 1 (proba: 100.0%) | based on 2 samples\n",
            "if (PctIlleg <= 1.5) and (PctKids2Par > 3.5) and (PctSpeakEnglOnly <= 1.5) and (PctRecImmig5 <= 3.5) then class: 3 (proba: 100.0%) | based on 1 samples\n"
          ],
          "name": "stdout"
        }
      ]
    },
    {
      "cell_type": "markdown",
      "metadata": {
        "id": "410plyXCmMmK"
      },
      "source": [
        "# Writing Rules into file and save"
      ]
    },
    {
      "cell_type": "code",
      "metadata": {
        "colab": {
          "base_uri": "https://localhost:8080/"
        },
        "id": "zoOaynKIM2vQ",
        "outputId": "44dbd428-7b54-4795-c36d-80bc3d7e4bb5"
      },
      "source": [
        "import os\n",
        "print(os.path)\n",
        "name1 = \"desc_rules.txt\"\n",
        "completeName=os.path.join(\"/content/drive/MyDrive/\", str(name1))\n",
        "file1 = open(completeName, \"w\")\n",
        "for r in rules:\n",
        "  sstring = r.split('|')[0]\n",
        "  print(sstring)\n",
        "  file1.write(sstring)\n",
        "  file1.write(\"\\n\")\n",
        "file1.close()\n",
        "path = \"/content/drive/MyDrive/\"\n",
        "os.chdir(path)"
      ],
      "execution_count": null,
      "outputs": [
        {
          "output_type": "stream",
          "text": [
            "<module 'posixpath' from '/usr/lib/python3.7/posixpath.py'>\n",
            "if (PctIlleg <= 1.5) and (PctKids2Par > 3.5) and (PctSpeakEnglOnly > 1.5) and (PctEmplProfServ <= 3.5) then class: 1 (proba: 99.82%) \n",
            "if (PctIlleg <= 1.5) and (PctKids2Par <= 3.5) and (blackPerCap <= 1.5) and (racepctblack <= 1.5) then class: 1 (proba: 86.54%) \n",
            "if (PctIlleg <= 1.5) and (PctKids2Par <= 3.5) and (blackPerCap > 1.5) and (OwnOccLowQuart <= 2.5) then class: 1 (proba: 95.59%) \n",
            "if (PctIlleg > 1.5) and (PctIlleg <= 2.5) and (racePctWhite <= 3.5) and (MedOwnCostPctIncNoMtg <= 2.5) then class: 3 (proba: 50.43%) \n",
            "if (PctIlleg > 1.5) and (PctIlleg > 2.5) and (PctKids2Par > 1.5) and (PctSameCity85 > 1.5) then class: 3 (proba: 50.79%) \n",
            "if (PctIlleg > 1.5) and (PctIlleg <= 2.5) and (racePctWhite > 3.5) and (HousVacant <= 2.5) then class: 1 (proba: 76.23%) \n",
            "if (PctIlleg > 1.5) and (PctIlleg > 2.5) and (PctKids2Par <= 1.5) and (PctHousLess3BR <= 3.5) then class: 3 (proba: 44.23%) \n",
            "if (PctIlleg <= 1.5) and (PctKids2Par <= 3.5) and (blackPerCap > 1.5) and (OwnOccLowQuart > 2.5) then class: 1 (proba: 88.73%) \n",
            "if (PctIlleg > 1.5) and (PctIlleg <= 2.5) and (racePctWhite <= 3.5) and (MedOwnCostPctIncNoMtg > 2.5) then class: 1 (proba: 74.14%) \n",
            "if (PctIlleg <= 1.5) and (PctKids2Par > 3.5) and (PctSpeakEnglOnly > 1.5) and (PctEmplProfServ > 3.5) then class: 1 (proba: 96.88%) \n",
            "if (PctIlleg <= 1.5) and (PctKids2Par <= 3.5) and (blackPerCap <= 1.5) and (racepctblack > 1.5) then class: 1 (proba: 50.0%) \n",
            "if (PctIlleg > 1.5) and (PctIlleg > 2.5) and (PctKids2Par <= 1.5) and (PctHousLess3BR > 3.5) then class: 2 (proba: 90.91%) \n",
            "if (PctIlleg > 1.5) and (PctIlleg > 2.5) and (PctKids2Par > 1.5) and (PctSameCity85 <= 1.5) then class: 1 (proba: 83.33%) \n",
            "if (PctIlleg > 1.5) and (PctIlleg <= 2.5) and (racePctWhite > 3.5) and (HousVacant > 2.5) then class: 2 (proba: 100.0%) \n",
            "if (PctIlleg <= 1.5) and (PctKids2Par > 3.5) and (PctSpeakEnglOnly <= 1.5) and (PctRecImmig5 > 3.5) then class: 1 (proba: 100.0%) \n",
            "if (PctIlleg <= 1.5) and (PctKids2Par > 3.5) and (PctSpeakEnglOnly <= 1.5) and (PctRecImmig5 <= 3.5) then class: 3 (proba: 100.0%) \n"
          ],
          "name": "stdout"
        }
      ]
    },
    {
      "cell_type": "markdown",
      "metadata": {
        "id": "kFjbm3APmUNM"
      },
      "source": [
        "# Plotting and Tree Representation"
      ]
    },
    {
      "cell_type": "code",
      "metadata": {
        "colab": {
          "base_uri": "https://localhost:8080/"
        },
        "id": "rvKMwF8wmgtD",
        "outputId": "f9f09e37-f8a3-404e-866b-970ffd0678eb"
      },
      "source": [
        "text_representation = tree.export_text(clf)\n",
        "print(text_representation)"
      ],
      "execution_count": null,
      "outputs": [
        {
          "output_type": "stream",
          "text": [
            "|--- feature_19 <= 1.50\n",
            "|   |--- feature_16 <= 3.50\n",
            "|   |   |--- feature_9 <= 1.50\n",
            "|   |   |   |--- feature_1 <= 1.50\n",
            "|   |   |   |   |--- class: 1\n",
            "|   |   |   |--- feature_1 >  1.50\n",
            "|   |   |   |   |--- class: 1\n",
            "|   |   |--- feature_9 >  1.50\n",
            "|   |   |   |--- feature_31 <= 2.50\n",
            "|   |   |   |   |--- class: 1\n",
            "|   |   |   |--- feature_31 >  2.50\n",
            "|   |   |   |   |--- class: 1\n",
            "|   |--- feature_16 >  3.50\n",
            "|   |   |--- feature_23 <= 1.50\n",
            "|   |   |   |--- feature_21 <= 3.50\n",
            "|   |   |   |   |--- class: 2\n",
            "|   |   |   |--- feature_21 >  3.50\n",
            "|   |   |   |   |--- class: 1\n",
            "|   |   |--- feature_23 >  1.50\n",
            "|   |   |   |--- feature_14 <= 3.50\n",
            "|   |   |   |   |--- class: 1\n",
            "|   |   |   |--- feature_14 >  3.50\n",
            "|   |   |   |   |--- class: 1\n",
            "|--- feature_19 >  1.50\n",
            "|   |--- feature_19 <= 2.50\n",
            "|   |   |--- feature_2 <= 3.50\n",
            "|   |   |   |--- feature_36 <= 2.50\n",
            "|   |   |   |   |--- class: 2\n",
            "|   |   |   |--- feature_36 >  2.50\n",
            "|   |   |   |   |--- class: 1\n",
            "|   |   |--- feature_2 >  3.50\n",
            "|   |   |   |--- feature_28 <= 2.50\n",
            "|   |   |   |   |--- class: 1\n",
            "|   |   |   |--- feature_28 >  2.50\n",
            "|   |   |   |   |--- class: 3\n",
            "|   |--- feature_19 >  2.50\n",
            "|   |   |--- feature_16 <= 1.50\n",
            "|   |   |   |--- feature_27 <= 3.50\n",
            "|   |   |   |   |--- class: 2\n",
            "|   |   |   |--- feature_27 >  3.50\n",
            "|   |   |   |   |--- class: 3\n",
            "|   |   |--- feature_16 >  1.50\n",
            "|   |   |   |--- feature_39 <= 1.50\n",
            "|   |   |   |   |--- class: 1\n",
            "|   |   |   |--- feature_39 >  1.50\n",
            "|   |   |   |   |--- class: 2\n",
            "\n"
          ],
          "name": "stdout"
        }
      ]
    },
    {
      "cell_type": "code",
      "metadata": {
        "colab": {
          "base_uri": "https://localhost:8080/",
          "height": 769
        },
        "id": "_AQBp2smttE4",
        "outputId": "78d16020-b54d-420d-831b-e19dd24edc1c"
      },
      "source": [
        "tree.plot_tree(clf) "
      ],
      "execution_count": null,
      "outputs": [
        {
          "output_type": "execute_result",
          "data": {
            "text/plain": [
              "[Text(167.4, 195.696, 'X[19] <= 1.5\\ngini = 0.394\\nsamples = 1993\\nvalue = [1506, 343, 144]'),\n",
              " Text(83.7, 152.208, 'X[16] <= 3.5\\ngini = 0.121\\nsamples = 1313\\nvalue = [1229, 72, 12]'),\n",
              " Text(41.85, 108.72, 'X[9] <= 1.5\\ngini = 0.2\\nsamples = 731\\nvalue = [650, 70, 11]'),\n",
              " Text(20.925, 65.232, 'X[1] <= 1.5\\ngini = 0.269\\nsamples = 388\\nvalue = [327, 56, 5]'),\n",
              " Text(10.4625, 21.744, 'gini = 0.236\\nsamples = 364\\nvalue = [315, 44, 5]'),\n",
              " Text(31.387500000000003, 21.744, 'gini = 0.5\\nsamples = 24\\nvalue = [12, 12, 0]'),\n",
              " Text(62.775000000000006, 65.232, 'X[31] <= 2.5\\ngini = 0.111\\nsamples = 343\\nvalue = [323, 14, 6]'),\n",
              " Text(52.3125, 21.744, 'gini = 0.085\\nsamples = 272\\nvalue = [260, 6, 6]'),\n",
              " Text(73.2375, 21.744, 'gini = 0.2\\nsamples = 71\\nvalue = [63, 8, 0]'),\n",
              " Text(125.55000000000001, 108.72, 'X[23] <= 1.5\\ngini = 0.01\\nsamples = 582\\nvalue = [579, 2, 1]'),\n",
              " Text(104.625, 65.232, 'X[21] <= 3.5\\ngini = 0.444\\nsamples = 3\\nvalue = [2, 1, 0]'),\n",
              " Text(94.16250000000001, 21.744, 'gini = 0.0\\nsamples = 1\\nvalue = [0, 1, 0]'),\n",
              " Text(115.0875, 21.744, 'gini = 0.0\\nsamples = 2\\nvalue = [2, 0, 0]'),\n",
              " Text(146.475, 65.232, 'X[14] <= 3.5\\ngini = 0.007\\nsamples = 579\\nvalue = [577, 1, 1]'),\n",
              " Text(136.01250000000002, 21.744, 'gini = 0.004\\nsamples = 547\\nvalue = [546, 1, 0]'),\n",
              " Text(156.9375, 21.744, 'gini = 0.061\\nsamples = 32\\nvalue = [31, 0, 1]'),\n",
              " Text(251.10000000000002, 152.208, 'X[19] <= 2.5\\ngini = 0.638\\nsamples = 680\\nvalue = [277, 271, 132]'),\n",
              " Text(209.25, 108.72, 'X[2] <= 3.5\\ngini = 0.559\\nsamples = 416\\nvalue = [224, 158, 34]'),\n",
              " Text(188.32500000000002, 65.232, 'X[36] <= 2.5\\ngini = 0.585\\nsamples = 292\\nvalue = [131, 132, 29]'),\n",
              " Text(177.8625, 21.744, 'gini = 0.59\\nsamples = 234\\nvalue = [88, 118, 28]'),\n",
              " Text(198.7875, 21.744, 'gini = 0.392\\nsamples = 58\\nvalue = [43, 14, 1]'),\n",
              " Text(230.175, 65.232, 'X[28] <= 2.5\\ngini = 0.392\\nsamples = 124\\nvalue = [93, 26, 5]'),\n",
              " Text(219.7125, 21.744, 'gini = 0.373\\nsamples = 122\\nvalue = [93, 26, 3]'),\n",
              " Text(240.63750000000002, 21.744, 'gini = 0.0\\nsamples = 2\\nvalue = [0, 0, 2]'),\n",
              " Text(292.95, 108.72, 'X[16] <= 1.5\\ngini = 0.639\\nsamples = 264\\nvalue = [53, 113, 98]'),\n",
              " Text(272.02500000000003, 65.232, 'X[27] <= 3.5\\ngini = 0.578\\nsamples = 126\\nvalue = [13, 48, 65]'),\n",
              " Text(261.5625, 21.744, 'gini = 0.602\\nsamples = 104\\nvalue = [13, 46, 45]'),\n",
              " Text(282.4875, 21.744, 'gini = 0.165\\nsamples = 22\\nvalue = [0, 2, 20]'),\n",
              " Text(313.875, 65.232, 'X[39] <= 1.5\\ngini = 0.637\\nsamples = 138\\nvalue = [40, 65, 33]'),\n",
              " Text(303.4125, 21.744, 'gini = 0.292\\nsamples = 12\\nvalue = [10, 1, 1]'),\n",
              " Text(324.33750000000003, 21.744, 'gini = 0.621\\nsamples = 126\\nvalue = [30, 64, 32]')]"
            ]
          },
          "metadata": {
            "tags": []
          },
          "execution_count": 64
        },
        {
          "output_type": "display_data",
          "data": {
            "image/png": "[encoded data removed]",
            "text/plain": [
              "<Figure size 432x288 with 1 Axes>"
            ]
          },
          "metadata": {
            "tags": [],
            "needs_background": "light"
          }
        }
      ]
    },
    {
      "cell_type": "code",
      "metadata": {
        "colab": {
          "base_uri": "https://localhost:8080/"
        },
        "id": "Hp03lfbuuBFQ",
        "outputId": "12b7bce0-d963-4b6c-8e1d-eeb9fc384e7f"
      },
      "source": [
        "!pip install graphviz"
      ],
      "execution_count": null,
      "outputs": [
        {
          "output_type": "stream",
          "text": [
            "Requirement already satisfied: graphviz in /usr/local/lib/python3.7/dist-packages (0.10.1)\n"
          ],
          "name": "stdout"
        }
      ]
    },
    {
      "cell_type": "code",
      "metadata": {
        "colab": {
          "base_uri": "https://localhost:8080/",
          "height": 677
        },
        "id": "9asDXB0XuH50",
        "outputId": "68a85ef6-69e8-4670-e49f-abc8ba5eb792"
      },
      "source": [
        "import graphviz \n",
        "dot_data = tree.export_graphviz(clf, out_file=None,\n",
        "                                feature_names=included_cols,    \n",
        "                             filled=True, rounded=True)  \n",
        "graph = graphviz.Source(dot_data)  \n",
        "graph "
      ],
      "execution_count": null,
      "outputs": [
        {
          "output_type": "execute_result",
          "data": {
            "text/plain": [
              "<graphviz.files.Source at 0x7fdd005bcbd0>"
            ],
            "image/svg+xml": "<?xml version=\"1.0\" encoding=\"UTF-8\" standalone=\"no\"?>\n<!DOCTYPE svg PUBLIC \"-//W3C//DTD SVG 1.1//EN\"\n \"http://www.w3.org/Graphics/SVG/1.1/DTD/svg11.dtd\">\n<!-- Generated by graphviz version 2.40.1 (20161225.0304)\n -->\n<!-- Title: Tree Pages: 1 -->\n<svg width=\"2341pt\" height=\"477pt\"\n viewBox=\"0.00 0.00 2341.00 477.00\" xmlns=\"http://www.w3.org/2000/svg\" xmlns:xlink=\"http://www.w3.org/1999/xlink\">\n<g id=\"graph0\" class=\"graph\" transform=\"scale(1 1) rotate(0) translate(4 473)\">\n<title>Tree</title>\n<polygon fill=\"#ffffff\" stroke=\"transparent\" points=\"-4,4 -4,-473 2337,-473 2337,4 -4,4\"/>\n<!-- 0 -->\n<g id=\"node1\" class=\"node\">\n<title>0</title>\n<path fill=\"#eda673\" stroke=\"#000000\" d=\"M1223.5,-469C1223.5,-469 1074.5,-469 1074.5,-469 1068.5,-469 1062.5,-463 1062.5,-457 1062.5,-457 1062.5,-413 1062.5,-413 1062.5,-407 1068.5,-401 1074.5,-401 1074.5,-401 1223.5,-401 1223.5,-401 1229.5,-401 1235.5,-407 1235.5,-413 1235.5,-413 1235.5,-457 1235.5,-457 1235.5,-463 1229.5,-469 1223.5,-469\"/>\n<text text-anchor=\"middle\" x=\"1149\" y=\"-453.8\" font-family=\"Helvetica,sans-Serif\" font-size=\"14.00\" fill=\"#000000\">PctIlleg &lt;= 1.5</text>\n<text text-anchor=\"middle\" x=\"1149\" y=\"-438.8\" font-family=\"Helvetica,sans-Serif\" font-size=\"14.00\" fill=\"#000000\">gini = 0.394</text>\n<text text-anchor=\"middle\" x=\"1149\" y=\"-423.8\" font-family=\"Helvetica,sans-Serif\" font-size=\"14.00\" fill=\"#000000\">samples = 1993</text>\n<text text-anchor=\"middle\" x=\"1149\" y=\"-408.8\" font-family=\"Helvetica,sans-Serif\" font-size=\"14.00\" fill=\"#000000\">value = [1506, 343, 144]</text>\n</g>\n<!-- 1 -->\n<g id=\"node2\" class=\"node\">\n<title>1</title>\n<path fill=\"#e78a46\" stroke=\"#000000\" d=\"M924,-365C924,-365 792,-365 792,-365 786,-365 780,-359 780,-353 780,-353 780,-309 780,-309 780,-303 786,-297 792,-297 792,-297 924,-297 924,-297 930,-297 936,-303 936,-309 936,-309 936,-353 936,-353 936,-359 930,-365 924,-365\"/>\n<text text-anchor=\"middle\" x=\"858\" y=\"-349.8\" font-family=\"Helvetica,sans-Serif\" font-size=\"14.00\" fill=\"#000000\">PctKids2Par &lt;= 3.5</text>\n<text text-anchor=\"middle\" x=\"858\" y=\"-334.8\" font-family=\"Helvetica,sans-Serif\" font-size=\"14.00\" fill=\"#000000\">gini = 0.121</text>\n<text text-anchor=\"middle\" x=\"858\" y=\"-319.8\" font-family=\"Helvetica,sans-Serif\" font-size=\"14.00\" fill=\"#000000\">samples = 1313</text>\n<text text-anchor=\"middle\" x=\"858\" y=\"-304.8\" font-family=\"Helvetica,sans-Serif\" font-size=\"14.00\" fill=\"#000000\">value = [1229, 72, 12]</text>\n</g>\n<!-- 0&#45;&gt;1 -->\n<g id=\"edge1\" class=\"edge\">\n<title>0&#45;&gt;1</title>\n<path fill=\"none\" stroke=\"#000000\" d=\"M1062.4783,-404.0782C1025.7216,-390.9417 982.9202,-375.645 946.0036,-362.4514\"/>\n<polygon fill=\"#000000\" stroke=\"#000000\" points=\"946.8509,-359.0375 936.2562,-358.9679 944.495,-365.6292 946.8509,-359.0375\"/>\n<text text-anchor=\"middle\" x=\"946.9535\" y=\"-377.8636\" font-family=\"Helvetica,sans-Serif\" font-size=\"14.00\" fill=\"#000000\">True</text>\n</g>\n<!-- 16 -->\n<g id=\"node17\" class=\"node\">\n<title>16</title>\n<path fill=\"#fffdfc\" stroke=\"#000000\" d=\"M1530,-365C1530,-365 1390,-365 1390,-365 1384,-365 1378,-359 1378,-353 1378,-353 1378,-309 1378,-309 1378,-303 1384,-297 1390,-297 1390,-297 1530,-297 1530,-297 1536,-297 1542,-303 1542,-309 1542,-309 1542,-353 1542,-353 1542,-359 1536,-365 1530,-365\"/>\n<text text-anchor=\"middle\" x=\"1460\" y=\"-349.8\" font-family=\"Helvetica,sans-Serif\" font-size=\"14.00\" fill=\"#000000\">PctIlleg &lt;= 2.5</text>\n<text text-anchor=\"middle\" x=\"1460\" y=\"-334.8\" font-family=\"Helvetica,sans-Serif\" font-size=\"14.00\" fill=\"#000000\">gini = 0.638</text>\n<text text-anchor=\"middle\" x=\"1460\" y=\"-319.8\" font-family=\"Helvetica,sans-Serif\" font-size=\"14.00\" fill=\"#000000\">samples = 680</text>\n<text text-anchor=\"middle\" x=\"1460\" y=\"-304.8\" font-family=\"Helvetica,sans-Serif\" font-size=\"14.00\" fill=\"#000000\">value = [277, 271, 132]</text>\n</g>\n<!-- 0&#45;&gt;16 -->\n<g id=\"edge16\" class=\"edge\">\n<title>0&#45;&gt;16</title>\n<path fill=\"none\" stroke=\"#000000\" d=\"M1235.6308,-406.0302C1276.8997,-392.2297 1326.2786,-375.7171 1368.1934,-361.7006\"/>\n<polygon fill=\"#000000\" stroke=\"#000000\" points=\"1369.4713,-364.9639 1377.845,-358.473 1367.2512,-358.3252 1369.4713,-364.9639\"/>\n<text text-anchor=\"middle\" x=\"1366.6863\" y=\"-377.1445\" font-family=\"Helvetica,sans-Serif\" font-size=\"14.00\" fill=\"#000000\">False</text>\n</g>\n<!-- 2 -->\n<g id=\"node3\" class=\"node\">\n<title>2</title>\n<path fill=\"#e89051\" stroke=\"#000000\" d=\"M523,-261C523,-261 399,-261 399,-261 393,-261 387,-255 387,-249 387,-249 387,-205 387,-205 387,-199 393,-193 399,-193 399,-193 523,-193 523,-193 529,-193 535,-199 535,-205 535,-205 535,-249 535,-249 535,-255 529,-261 523,-261\"/>\n<text text-anchor=\"middle\" x=\"461\" y=\"-245.8\" font-family=\"Helvetica,sans-Serif\" font-size=\"14.00\" fill=\"#000000\">blackPerCap &lt;= 1.5</text>\n<text text-anchor=\"middle\" x=\"461\" y=\"-230.8\" font-family=\"Helvetica,sans-Serif\" font-size=\"14.00\" fill=\"#000000\">gini = 0.2</text>\n<text text-anchor=\"middle\" x=\"461\" y=\"-215.8\" font-family=\"Helvetica,sans-Serif\" font-size=\"14.00\" fill=\"#000000\">samples = 731</text>\n<text text-anchor=\"middle\" x=\"461\" y=\"-200.8\" font-family=\"Helvetica,sans-Serif\" font-size=\"14.00\" fill=\"#000000\">value = [650, 70, 11]</text>\n</g>\n<!-- 1&#45;&gt;2 -->\n<g id=\"edge2\" class=\"edge\">\n<title>1&#45;&gt;2</title>\n<path fill=\"none\" stroke=\"#000000\" d=\"M779.5656,-310.4529C711.9362,-292.7364 614.5228,-267.2176 545.2524,-249.0712\"/>\n<polygon fill=\"#000000\" stroke=\"#000000\" points=\"545.8039,-245.5976 535.2433,-246.4491 544.0299,-252.3691 545.8039,-245.5976\"/>\n</g>\n<!-- 9 -->\n<g id=\"node10\" class=\"node\">\n<title>9</title>\n<path fill=\"#e5823a\" stroke=\"#000000\" d=\"M937.5,-261C937.5,-261 778.5,-261 778.5,-261 772.5,-261 766.5,-255 766.5,-249 766.5,-249 766.5,-205 766.5,-205 766.5,-199 772.5,-193 778.5,-193 778.5,-193 937.5,-193 937.5,-193 943.5,-193 949.5,-199 949.5,-205 949.5,-205 949.5,-249 949.5,-249 949.5,-255 943.5,-261 937.5,-261\"/>\n<text text-anchor=\"middle\" x=\"858\" y=\"-245.8\" font-family=\"Helvetica,sans-Serif\" font-size=\"14.00\" fill=\"#000000\">PctSpeakEnglOnly &lt;= 1.5</text>\n<text text-anchor=\"middle\" x=\"858\" y=\"-230.8\" font-family=\"Helvetica,sans-Serif\" font-size=\"14.00\" fill=\"#000000\">gini = 0.01</text>\n<text text-anchor=\"middle\" x=\"858\" y=\"-215.8\" font-family=\"Helvetica,sans-Serif\" font-size=\"14.00\" fill=\"#000000\">samples = 582</text>\n<text text-anchor=\"middle\" x=\"858\" y=\"-200.8\" font-family=\"Helvetica,sans-Serif\" font-size=\"14.00\" fill=\"#000000\">value = [579, 2, 1]</text>\n</g>\n<!-- 1&#45;&gt;9 -->\n<g id=\"edge9\" class=\"edge\">\n<title>1&#45;&gt;9</title>\n<path fill=\"none\" stroke=\"#000000\" d=\"M858,-296.9465C858,-288.776 858,-279.9318 858,-271.3697\"/>\n<polygon fill=\"#000000\" stroke=\"#000000\" points=\"861.5001,-271.13 858,-261.13 854.5001,-271.13 861.5001,-271.13\"/>\n</g>\n<!-- 3 -->\n<g id=\"node4\" class=\"node\">\n<title>3</title>\n<path fill=\"#ea985d\" stroke=\"#000000\" d=\"M283.5,-157C283.5,-157 164.5,-157 164.5,-157 158.5,-157 152.5,-151 152.5,-145 152.5,-145 152.5,-101 152.5,-101 152.5,-95 158.5,-89 164.5,-89 164.5,-89 283.5,-89 283.5,-89 289.5,-89 295.5,-95 295.5,-101 295.5,-101 295.5,-145 295.5,-145 295.5,-151 289.5,-157 283.5,-157\"/>\n<text text-anchor=\"middle\" x=\"224\" y=\"-141.8\" font-family=\"Helvetica,sans-Serif\" font-size=\"14.00\" fill=\"#000000\">racepctblack &lt;= 1.5</text>\n<text text-anchor=\"middle\" x=\"224\" y=\"-126.8\" font-family=\"Helvetica,sans-Serif\" font-size=\"14.00\" fill=\"#000000\">gini = 0.269</text>\n<text text-anchor=\"middle\" x=\"224\" y=\"-111.8\" font-family=\"Helvetica,sans-Serif\" font-size=\"14.00\" fill=\"#000000\">samples = 388</text>\n<text text-anchor=\"middle\" x=\"224\" y=\"-96.8\" font-family=\"Helvetica,sans-Serif\" font-size=\"14.00\" fill=\"#000000\">value = [327, 56, 5]</text>\n</g>\n<!-- 2&#45;&gt;3 -->\n<g id=\"edge3\" class=\"edge\">\n<title>2&#45;&gt;3</title>\n<path fill=\"none\" stroke=\"#000000\" d=\"M386.9866,-194.5215C360.9871,-183.1125 331.6453,-170.2367 305.0949,-158.586\"/>\n<polygon fill=\"#000000\" stroke=\"#000000\" points=\"306.3938,-155.3338 295.8302,-154.5204 303.5809,-161.7438 306.3938,-155.3338\"/>\n</g>\n<!-- 6 -->\n<g id=\"node7\" class=\"node\">\n<title>6</title>\n<path fill=\"#e78945\" stroke=\"#000000\" d=\"M539,-157C539,-157 383,-157 383,-157 377,-157 371,-151 371,-145 371,-145 371,-101 371,-101 371,-95 377,-89 383,-89 383,-89 539,-89 539,-89 545,-89 551,-95 551,-101 551,-101 551,-145 551,-145 551,-151 545,-157 539,-157\"/>\n<text text-anchor=\"middle\" x=\"461\" y=\"-141.8\" font-family=\"Helvetica,sans-Serif\" font-size=\"14.00\" fill=\"#000000\">OwnOccLowQuart &lt;= 2.5</text>\n<text text-anchor=\"middle\" x=\"461\" y=\"-126.8\" font-family=\"Helvetica,sans-Serif\" font-size=\"14.00\" fill=\"#000000\">gini = 0.111</text>\n<text text-anchor=\"middle\" x=\"461\" y=\"-111.8\" font-family=\"Helvetica,sans-Serif\" font-size=\"14.00\" fill=\"#000000\">samples = 343</text>\n<text text-anchor=\"middle\" x=\"461\" y=\"-96.8\" font-family=\"Helvetica,sans-Serif\" font-size=\"14.00\" fill=\"#000000\">value = [323, 14, 6]</text>\n</g>\n<!-- 2&#45;&gt;6 -->\n<g id=\"edge6\" class=\"edge\">\n<title>2&#45;&gt;6</title>\n<path fill=\"none\" stroke=\"#000000\" d=\"M461,-192.9465C461,-184.776 461,-175.9318 461,-167.3697\"/>\n<polygon fill=\"#000000\" stroke=\"#000000\" points=\"464.5001,-167.13 461,-157.13 457.5001,-167.13 464.5001,-167.13\"/>\n</g>\n<!-- 4 -->\n<g id=\"node5\" class=\"node\">\n<title>4</title>\n<path fill=\"#e99457\" stroke=\"#000000\" d=\"M128,-53C128,-53 12,-53 12,-53 6,-53 0,-47 0,-41 0,-41 0,-12 0,-12 0,-6 6,0 12,0 12,0 128,0 128,0 134,0 140,-6 140,-12 140,-12 140,-41 140,-41 140,-47 134,-53 128,-53\"/>\n<text text-anchor=\"middle\" x=\"70\" y=\"-37.8\" font-family=\"Helvetica,sans-Serif\" font-size=\"14.00\" fill=\"#000000\">gini = 0.236</text>\n<text text-anchor=\"middle\" x=\"70\" y=\"-22.8\" font-family=\"Helvetica,sans-Serif\" font-size=\"14.00\" fill=\"#000000\">samples = 364</text>\n<text text-anchor=\"middle\" x=\"70\" y=\"-7.8\" font-family=\"Helvetica,sans-Serif\" font-size=\"14.00\" fill=\"#000000\">value = [315, 44, 5]</text>\n</g>\n<!-- 3&#45;&gt;4 -->\n<g id=\"edge4\" class=\"edge\">\n<title>3&#45;&gt;4</title>\n<path fill=\"none\" stroke=\"#000000\" d=\"M169.7054,-88.9777C154.0692,-79.1798 137.0613,-68.5222 121.5937,-58.8298\"/>\n<polygon fill=\"#000000\" stroke=\"#000000\" points=\"123.019,-55.5926 112.6867,-53.2485 119.302,-61.5242 123.019,-55.5926\"/>\n</g>\n<!-- 5 -->\n<g id=\"node6\" class=\"node\">\n<title>5</title>\n<path fill=\"#ffffff\" stroke=\"#000000\" d=\"M277.5,-53C277.5,-53 170.5,-53 170.5,-53 164.5,-53 158.5,-47 158.5,-41 158.5,-41 158.5,-12 158.5,-12 158.5,-6 164.5,0 170.5,0 170.5,0 277.5,0 277.5,0 283.5,0 289.5,-6 289.5,-12 289.5,-12 289.5,-41 289.5,-41 289.5,-47 283.5,-53 277.5,-53\"/>\n<text text-anchor=\"middle\" x=\"224\" y=\"-37.8\" font-family=\"Helvetica,sans-Serif\" font-size=\"14.00\" fill=\"#000000\">gini = 0.5</text>\n<text text-anchor=\"middle\" x=\"224\" y=\"-22.8\" font-family=\"Helvetica,sans-Serif\" font-size=\"14.00\" fill=\"#000000\">samples = 24</text>\n<text text-anchor=\"middle\" x=\"224\" y=\"-7.8\" font-family=\"Helvetica,sans-Serif\" font-size=\"14.00\" fill=\"#000000\">value = [12, 12, 0]</text>\n</g>\n<!-- 3&#45;&gt;5 -->\n<g id=\"edge5\" class=\"edge\">\n<title>3&#45;&gt;5</title>\n<path fill=\"none\" stroke=\"#000000\" d=\"M224,-88.9777C224,-80.7364 224,-71.887 224,-63.5153\"/>\n<polygon fill=\"#000000\" stroke=\"#000000\" points=\"227.5001,-63.2484 224,-53.2485 220.5001,-63.2485 227.5001,-63.2484\"/>\n</g>\n<!-- 7 -->\n<g id=\"node8\" class=\"node\">\n<title>7</title>\n<path fill=\"#e68742\" stroke=\"#000000\" d=\"M426.5,-53C426.5,-53 319.5,-53 319.5,-53 313.5,-53 307.5,-47 307.5,-41 307.5,-41 307.5,-12 307.5,-12 307.5,-6 313.5,0 319.5,0 319.5,0 426.5,0 426.5,0 432.5,0 438.5,-6 438.5,-12 438.5,-12 438.5,-41 438.5,-41 438.5,-47 432.5,-53 426.5,-53\"/>\n<text text-anchor=\"middle\" x=\"373\" y=\"-37.8\" font-family=\"Helvetica,sans-Serif\" font-size=\"14.00\" fill=\"#000000\">gini = 0.085</text>\n<text text-anchor=\"middle\" x=\"373\" y=\"-22.8\" font-family=\"Helvetica,sans-Serif\" font-size=\"14.00\" fill=\"#000000\">samples = 272</text>\n<text text-anchor=\"middle\" x=\"373\" y=\"-7.8\" font-family=\"Helvetica,sans-Serif\" font-size=\"14.00\" fill=\"#000000\">value = [260, 6, 6]</text>\n</g>\n<!-- 6&#45;&gt;7 -->\n<g id=\"edge7\" class=\"edge\">\n<title>6&#45;&gt;7</title>\n<path fill=\"none\" stroke=\"#000000\" d=\"M429.9745,-88.9777C421.6241,-79.8207 412.589,-69.9129 404.2276,-60.744\"/>\n<polygon fill=\"#000000\" stroke=\"#000000\" points=\"406.7167,-58.2791 397.3924,-53.2485 401.5444,-62.9959 406.7167,-58.2791\"/>\n</g>\n<!-- 8 -->\n<g id=\"node9\" class=\"node\">\n<title>8</title>\n<path fill=\"#e89152\" stroke=\"#000000\" d=\"M567.5,-53C567.5,-53 468.5,-53 468.5,-53 462.5,-53 456.5,-47 456.5,-41 456.5,-41 456.5,-12 456.5,-12 456.5,-6 462.5,0 468.5,0 468.5,0 567.5,0 567.5,0 573.5,0 579.5,-6 579.5,-12 579.5,-12 579.5,-41 579.5,-41 579.5,-47 573.5,-53 567.5,-53\"/>\n<text text-anchor=\"middle\" x=\"518\" y=\"-37.8\" font-family=\"Helvetica,sans-Serif\" font-size=\"14.00\" fill=\"#000000\">gini = 0.2</text>\n<text text-anchor=\"middle\" x=\"518\" y=\"-22.8\" font-family=\"Helvetica,sans-Serif\" font-size=\"14.00\" fill=\"#000000\">samples = 71</text>\n<text text-anchor=\"middle\" x=\"518\" y=\"-7.8\" font-family=\"Helvetica,sans-Serif\" font-size=\"14.00\" fill=\"#000000\">value = [63, 8, 0]</text>\n</g>\n<!-- 6&#45;&gt;8 -->\n<g id=\"edge8\" class=\"edge\">\n<title>6&#45;&gt;8</title>\n<path fill=\"none\" stroke=\"#000000\" d=\"M481.0961,-88.9777C486.2344,-80.2786 491.773,-70.9018 496.9575,-62.1247\"/>\n<polygon fill=\"#000000\" stroke=\"#000000\" points=\"500.1281,-63.6387 502.2004,-53.2485 494.101,-60.0786 500.1281,-63.6387\"/>\n</g>\n<!-- 10 -->\n<g id=\"node11\" class=\"node\">\n<title>10</title>\n<path fill=\"#f2c09c\" stroke=\"#000000\" d=\"M833.5,-157C833.5,-157 702.5,-157 702.5,-157 696.5,-157 690.5,-151 690.5,-145 690.5,-145 690.5,-101 690.5,-101 690.5,-95 696.5,-89 702.5,-89 702.5,-89 833.5,-89 833.5,-89 839.5,-89 845.5,-95 845.5,-101 845.5,-101 845.5,-145 845.5,-145 845.5,-151 839.5,-157 833.5,-157\"/>\n<text text-anchor=\"middle\" x=\"768\" y=\"-141.8\" font-family=\"Helvetica,sans-Serif\" font-size=\"14.00\" fill=\"#000000\">PctRecImmig5 &lt;= 3.5</text>\n<text text-anchor=\"middle\" x=\"768\" y=\"-126.8\" font-family=\"Helvetica,sans-Serif\" font-size=\"14.00\" fill=\"#000000\">gini = 0.444</text>\n<text text-anchor=\"middle\" x=\"768\" y=\"-111.8\" font-family=\"Helvetica,sans-Serif\" font-size=\"14.00\" fill=\"#000000\">samples = 3</text>\n<text text-anchor=\"middle\" x=\"768\" y=\"-96.8\" font-family=\"Helvetica,sans-Serif\" font-size=\"14.00\" fill=\"#000000\">value = [2, 1, 0]</text>\n</g>\n<!-- 9&#45;&gt;10 -->\n<g id=\"edge10\" class=\"edge\">\n<title>9&#45;&gt;10</title>\n<path fill=\"none\" stroke=\"#000000\" d=\"M828.5306,-192.9465C820.7607,-183.968 812.2868,-174.1758 804.2064,-164.8385\"/>\n<polygon fill=\"#000000\" stroke=\"#000000\" points=\"806.726,-162.4014 797.5356,-157.13 801.4328,-166.982 806.726,-162.4014\"/>\n</g>\n<!-- 13 -->\n<g id=\"node14\" class=\"node\">\n<title>13</title>\n<path fill=\"#e5813a\" stroke=\"#000000\" d=\"M1022.5,-157C1022.5,-157 875.5,-157 875.5,-157 869.5,-157 863.5,-151 863.5,-145 863.5,-145 863.5,-101 863.5,-101 863.5,-95 869.5,-89 875.5,-89 875.5,-89 1022.5,-89 1022.5,-89 1028.5,-89 1034.5,-95 1034.5,-101 1034.5,-101 1034.5,-145 1034.5,-145 1034.5,-151 1028.5,-157 1022.5,-157\"/>\n<text text-anchor=\"middle\" x=\"949\" y=\"-141.8\" font-family=\"Helvetica,sans-Serif\" font-size=\"14.00\" fill=\"#000000\">PctEmplProfServ &lt;= 3.5</text>\n<text text-anchor=\"middle\" x=\"949\" y=\"-126.8\" font-family=\"Helvetica,sans-Serif\" font-size=\"14.00\" fill=\"#000000\">gini = 0.007</text>\n<text text-anchor=\"middle\" x=\"949\" y=\"-111.8\" font-family=\"Helvetica,sans-Serif\" font-size=\"14.00\" fill=\"#000000\">samples = 579</text>\n<text text-anchor=\"middle\" x=\"949\" y=\"-96.8\" font-family=\"Helvetica,sans-Serif\" font-size=\"14.00\" fill=\"#000000\">value = [577, 1, 1]</text>\n</g>\n<!-- 9&#45;&gt;13 -->\n<g id=\"edge13\" class=\"edge\">\n<title>9&#45;&gt;13</title>\n<path fill=\"none\" stroke=\"#000000\" d=\"M887.7968,-192.9465C895.653,-183.968 904.2212,-174.1758 912.3913,-164.8385\"/>\n<polygon fill=\"#000000\" stroke=\"#000000\" points=\"915.1852,-166.9606 919.1363,-157.13 909.9171,-162.351 915.1852,-166.9606\"/>\n</g>\n<!-- 11 -->\n<g id=\"node12\" class=\"node\">\n<title>11</title>\n<path fill=\"#39e581\" stroke=\"#000000\" d=\"M700.5,-53C700.5,-53 609.5,-53 609.5,-53 603.5,-53 597.5,-47 597.5,-41 597.5,-41 597.5,-12 597.5,-12 597.5,-6 603.5,0 609.5,0 609.5,0 700.5,0 700.5,0 706.5,0 712.5,-6 712.5,-12 712.5,-12 712.5,-41 712.5,-41 712.5,-47 706.5,-53 700.5,-53\"/>\n<text text-anchor=\"middle\" x=\"655\" y=\"-37.8\" font-family=\"Helvetica,sans-Serif\" font-size=\"14.00\" fill=\"#000000\">gini = 0.0</text>\n<text text-anchor=\"middle\" x=\"655\" y=\"-22.8\" font-family=\"Helvetica,sans-Serif\" font-size=\"14.00\" fill=\"#000000\">samples = 1</text>\n<text text-anchor=\"middle\" x=\"655\" y=\"-7.8\" font-family=\"Helvetica,sans-Serif\" font-size=\"14.00\" fill=\"#000000\">value = [0, 1, 0]</text>\n</g>\n<!-- 10&#45;&gt;11 -->\n<g id=\"edge11\" class=\"edge\">\n<title>10&#45;&gt;11</title>\n<path fill=\"none\" stroke=\"#000000\" d=\"M728.1604,-88.9777C717.1161,-79.546 705.139,-69.3178 694.1352,-59.9208\"/>\n<polygon fill=\"#000000\" stroke=\"#000000\" points=\"696.1994,-57.081 686.3221,-53.2485 691.6536,-62.4041 696.1994,-57.081\"/>\n</g>\n<!-- 12 -->\n<g id=\"node13\" class=\"node\">\n<title>12</title>\n<path fill=\"#e58139\" stroke=\"#000000\" d=\"M833.5,-53C833.5,-53 742.5,-53 742.5,-53 736.5,-53 730.5,-47 730.5,-41 730.5,-41 730.5,-12 730.5,-12 730.5,-6 736.5,0 742.5,0 742.5,0 833.5,0 833.5,0 839.5,0 845.5,-6 845.5,-12 845.5,-12 845.5,-41 845.5,-41 845.5,-47 839.5,-53 833.5,-53\"/>\n<text text-anchor=\"middle\" x=\"788\" y=\"-37.8\" font-family=\"Helvetica,sans-Serif\" font-size=\"14.00\" fill=\"#000000\">gini = 0.0</text>\n<text text-anchor=\"middle\" x=\"788\" y=\"-22.8\" font-family=\"Helvetica,sans-Serif\" font-size=\"14.00\" fill=\"#000000\">samples = 2</text>\n<text text-anchor=\"middle\" x=\"788\" y=\"-7.8\" font-family=\"Helvetica,sans-Serif\" font-size=\"14.00\" fill=\"#000000\">value = [2, 0, 0]</text>\n</g>\n<!-- 10&#45;&gt;12 -->\n<g id=\"edge12\" class=\"edge\">\n<title>10&#45;&gt;12</title>\n<path fill=\"none\" stroke=\"#000000\" d=\"M775.0513,-88.9777C776.7783,-80.6449 778.6341,-71.6903 780.3862,-63.2364\"/>\n<polygon fill=\"#000000\" stroke=\"#000000\" points=\"783.854,-63.7507 782.4563,-53.2485 776.9996,-62.3301 783.854,-63.7507\"/>\n</g>\n<!-- 14 -->\n<g id=\"node15\" class=\"node\">\n<title>14</title>\n<path fill=\"#e58139\" stroke=\"#000000\" d=\"M982.5,-53C982.5,-53 875.5,-53 875.5,-53 869.5,-53 863.5,-47 863.5,-41 863.5,-41 863.5,-12 863.5,-12 863.5,-6 869.5,0 875.5,0 875.5,0 982.5,0 982.5,0 988.5,0 994.5,-6 994.5,-12 994.5,-12 994.5,-41 994.5,-41 994.5,-47 988.5,-53 982.5,-53\"/>\n<text text-anchor=\"middle\" x=\"929\" y=\"-37.8\" font-family=\"Helvetica,sans-Serif\" font-size=\"14.00\" fill=\"#000000\">gini = 0.004</text>\n<text text-anchor=\"middle\" x=\"929\" y=\"-22.8\" font-family=\"Helvetica,sans-Serif\" font-size=\"14.00\" fill=\"#000000\">samples = 547</text>\n<text text-anchor=\"middle\" x=\"929\" y=\"-7.8\" font-family=\"Helvetica,sans-Serif\" font-size=\"14.00\" fill=\"#000000\">value = [546, 1, 0]</text>\n</g>\n<!-- 13&#45;&gt;14 -->\n<g id=\"edge14\" class=\"edge\">\n<title>13&#45;&gt;14</title>\n<path fill=\"none\" stroke=\"#000000\" d=\"M941.9487,-88.9777C940.2217,-80.6449 938.3659,-71.6903 936.6138,-63.2364\"/>\n<polygon fill=\"#000000\" stroke=\"#000000\" points=\"940.0004,-62.3301 934.5437,-53.2485 933.146,-63.7507 940.0004,-62.3301\"/>\n</g>\n<!-- 15 -->\n<g id=\"node16\" class=\"node\">\n<title>15</title>\n<path fill=\"#e6853f\" stroke=\"#000000\" d=\"M1123.5,-53C1123.5,-53 1024.5,-53 1024.5,-53 1018.5,-53 1012.5,-47 1012.5,-41 1012.5,-41 1012.5,-12 1012.5,-12 1012.5,-6 1018.5,0 1024.5,0 1024.5,0 1123.5,0 1123.5,0 1129.5,0 1135.5,-6 1135.5,-12 1135.5,-12 1135.5,-41 1135.5,-41 1135.5,-47 1129.5,-53 1123.5,-53\"/>\n<text text-anchor=\"middle\" x=\"1074\" y=\"-37.8\" font-family=\"Helvetica,sans-Serif\" font-size=\"14.00\" fill=\"#000000\">gini = 0.061</text>\n<text text-anchor=\"middle\" x=\"1074\" y=\"-22.8\" font-family=\"Helvetica,sans-Serif\" font-size=\"14.00\" fill=\"#000000\">samples = 32</text>\n<text text-anchor=\"middle\" x=\"1074\" y=\"-7.8\" font-family=\"Helvetica,sans-Serif\" font-size=\"14.00\" fill=\"#000000\">value = [31, 0, 1]</text>\n</g>\n<!-- 13&#45;&gt;15 -->\n<g id=\"edge15\" class=\"edge\">\n<title>13&#45;&gt;15</title>\n<path fill=\"none\" stroke=\"#000000\" d=\"M993.0703,-88.9777C1005.5248,-79.3629 1019.0515,-68.9203 1031.4167,-59.3743\"/>\n<polygon fill=\"#000000\" stroke=\"#000000\" points=\"1033.5749,-62.1299 1039.3517,-53.2485 1029.2972,-56.5889 1033.5749,-62.1299\"/>\n</g>\n<!-- 17 -->\n<g id=\"node18\" class=\"node\">\n<title>17</title>\n<path fill=\"#f8dfcc\" stroke=\"#000000\" d=\"M1526,-261C1526,-261 1394,-261 1394,-261 1388,-261 1382,-255 1382,-249 1382,-249 1382,-205 1382,-205 1382,-199 1388,-193 1394,-193 1394,-193 1526,-193 1526,-193 1532,-193 1538,-199 1538,-205 1538,-205 1538,-249 1538,-249 1538,-255 1532,-261 1526,-261\"/>\n<text text-anchor=\"middle\" x=\"1460\" y=\"-245.8\" font-family=\"Helvetica,sans-Serif\" font-size=\"14.00\" fill=\"#000000\">racePctWhite &lt;= 3.5</text>\n<text text-anchor=\"middle\" x=\"1460\" y=\"-230.8\" font-family=\"Helvetica,sans-Serif\" font-size=\"14.00\" fill=\"#000000\">gini = 0.559</text>\n<text text-anchor=\"middle\" x=\"1460\" y=\"-215.8\" font-family=\"Helvetica,sans-Serif\" font-size=\"14.00\" fill=\"#000000\">samples = 416</text>\n<text text-anchor=\"middle\" x=\"1460\" y=\"-200.8\" font-family=\"Helvetica,sans-Serif\" font-size=\"14.00\" fill=\"#000000\">value = [224, 158, 34]</text>\n</g>\n<!-- 16&#45;&gt;17 -->\n<g id=\"edge17\" class=\"edge\">\n<title>16&#45;&gt;17</title>\n<path fill=\"none\" stroke=\"#000000\" d=\"M1460,-296.9465C1460,-288.776 1460,-279.9318 1460,-271.3697\"/>\n<polygon fill=\"#000000\" stroke=\"#000000\" points=\"1463.5001,-271.13 1460,-261.13 1456.5001,-271.13 1463.5001,-271.13\"/>\n</g>\n<!-- 24 -->\n<g id=\"node25\" class=\"node\">\n<title>24</title>\n<path fill=\"#edfdf4\" stroke=\"#000000\" d=\"M1936,-261C1936,-261 1812,-261 1812,-261 1806,-261 1800,-255 1800,-249 1800,-249 1800,-205 1800,-205 1800,-199 1806,-193 1812,-193 1812,-193 1936,-193 1936,-193 1942,-193 1948,-199 1948,-205 1948,-205 1948,-249 1948,-249 1948,-255 1942,-261 1936,-261\"/>\n<text text-anchor=\"middle\" x=\"1874\" y=\"-245.8\" font-family=\"Helvetica,sans-Serif\" font-size=\"14.00\" fill=\"#000000\">PctKids2Par &lt;= 1.5</text>\n<text text-anchor=\"middle\" x=\"1874\" y=\"-230.8\" font-family=\"Helvetica,sans-Serif\" font-size=\"14.00\" fill=\"#000000\">gini = 0.639</text>\n<text text-anchor=\"middle\" x=\"1874\" y=\"-215.8\" font-family=\"Helvetica,sans-Serif\" font-size=\"14.00\" fill=\"#000000\">samples = 264</text>\n<text text-anchor=\"middle\" x=\"1874\" y=\"-200.8\" font-family=\"Helvetica,sans-Serif\" font-size=\"14.00\" fill=\"#000000\">value = [53, 113, 98]</text>\n</g>\n<!-- 16&#45;&gt;24 -->\n<g id=\"edge24\" class=\"edge\">\n<title>16&#45;&gt;24</title>\n<path fill=\"none\" stroke=\"#000000\" d=\"M1542.2881,-310.3286C1614.0198,-292.309 1717.6056,-266.2875 1789.8747,-248.1329\"/>\n<polygon fill=\"#000000\" stroke=\"#000000\" points=\"1791.0118,-251.4561 1799.8577,-245.6251 1789.3063,-244.667 1791.0118,-251.4561\"/>\n</g>\n<!-- 18 -->\n<g id=\"node19\" class=\"node\">\n<title>18</title>\n<path fill=\"#fefffe\" stroke=\"#000000\" d=\"M1462.5,-157C1462.5,-157 1253.5,-157 1253.5,-157 1247.5,-157 1241.5,-151 1241.5,-145 1241.5,-145 1241.5,-101 1241.5,-101 1241.5,-95 1247.5,-89 1253.5,-89 1253.5,-89 1462.5,-89 1462.5,-89 1468.5,-89 1474.5,-95 1474.5,-101 1474.5,-101 1474.5,-145 1474.5,-145 1474.5,-151 1468.5,-157 1462.5,-157\"/>\n<text text-anchor=\"middle\" x=\"1358\" y=\"-141.8\" font-family=\"Helvetica,sans-Serif\" font-size=\"14.00\" fill=\"#000000\">MedOwnCostPctIncNoMtg &lt;= 2.5</text>\n<text text-anchor=\"middle\" x=\"1358\" y=\"-126.8\" font-family=\"Helvetica,sans-Serif\" font-size=\"14.00\" fill=\"#000000\">gini = 0.585</text>\n<text text-anchor=\"middle\" x=\"1358\" y=\"-111.8\" font-family=\"Helvetica,sans-Serif\" font-size=\"14.00\" fill=\"#000000\">samples = 292</text>\n<text text-anchor=\"middle\" x=\"1358\" y=\"-96.8\" font-family=\"Helvetica,sans-Serif\" font-size=\"14.00\" fill=\"#000000\">value = [131, 132, 29]</text>\n</g>\n<!-- 17&#45;&gt;18 -->\n<g id=\"edge18\" class=\"edge\">\n<title>17&#45;&gt;18</title>\n<path fill=\"none\" stroke=\"#000000\" d=\"M1426.6014,-192.9465C1417.6194,-183.7884 1407.8072,-173.7838 1398.485,-164.2788\"/>\n<polygon fill=\"#000000\" stroke=\"#000000\" points=\"1400.9746,-161.8187 1391.4737,-157.13 1395.977,-166.7201 1400.9746,-161.8187\"/>\n</g>\n<!-- 21 -->\n<g id=\"node22\" class=\"node\">\n<title>21</title>\n<path fill=\"#eda978\" stroke=\"#000000\" d=\"M1621,-157C1621,-157 1505,-157 1505,-157 1499,-157 1493,-151 1493,-145 1493,-145 1493,-101 1493,-101 1493,-95 1499,-89 1505,-89 1505,-89 1621,-89 1621,-89 1627,-89 1633,-95 1633,-101 1633,-101 1633,-145 1633,-145 1633,-151 1627,-157 1621,-157\"/>\n<text text-anchor=\"middle\" x=\"1563\" y=\"-141.8\" font-family=\"Helvetica,sans-Serif\" font-size=\"14.00\" fill=\"#000000\">HousVacant &lt;= 2.5</text>\n<text text-anchor=\"middle\" x=\"1563\" y=\"-126.8\" font-family=\"Helvetica,sans-Serif\" font-size=\"14.00\" fill=\"#000000\">gini = 0.392</text>\n<text text-anchor=\"middle\" x=\"1563\" y=\"-111.8\" font-family=\"Helvetica,sans-Serif\" font-size=\"14.00\" fill=\"#000000\">samples = 124</text>\n<text text-anchor=\"middle\" x=\"1563\" y=\"-96.8\" font-family=\"Helvetica,sans-Serif\" font-size=\"14.00\" fill=\"#000000\">value = [93, 26, 5]</text>\n</g>\n<!-- 17&#45;&gt;21 -->\n<g id=\"edge21\" class=\"edge\">\n<title>17&#45;&gt;21</title>\n<path fill=\"none\" stroke=\"#000000\" d=\"M1493.7261,-192.9465C1502.7961,-183.7884 1512.7045,-173.7838 1522.1181,-164.2788\"/>\n<polygon fill=\"#000000\" stroke=\"#000000\" points=\"1524.6481,-166.6981 1529.1982,-157.13 1519.6745,-161.7723 1524.6481,-166.6981\"/>\n</g>\n<!-- 19 -->\n<g id=\"node20\" class=\"node\">\n<title>19</title>\n<path fill=\"#d6fae5\" stroke=\"#000000\" d=\"M1290,-53C1290,-53 1166,-53 1166,-53 1160,-53 1154,-47 1154,-41 1154,-41 1154,-12 1154,-12 1154,-6 1160,0 1166,0 1166,0 1290,0 1290,0 1296,0 1302,-6 1302,-12 1302,-12 1302,-41 1302,-41 1302,-47 1296,-53 1290,-53\"/>\n<text text-anchor=\"middle\" x=\"1228\" y=\"-37.8\" font-family=\"Helvetica,sans-Serif\" font-size=\"14.00\" fill=\"#000000\">gini = 0.59</text>\n<text text-anchor=\"middle\" x=\"1228\" y=\"-22.8\" font-family=\"Helvetica,sans-Serif\" font-size=\"14.00\" fill=\"#000000\">samples = 234</text>\n<text text-anchor=\"middle\" x=\"1228\" y=\"-7.8\" font-family=\"Helvetica,sans-Serif\" font-size=\"14.00\" fill=\"#000000\">value = [88, 118, 28]</text>\n</g>\n<!-- 18&#45;&gt;19 -->\n<g id=\"edge19\" class=\"edge\">\n<title>18&#45;&gt;19</title>\n<path fill=\"none\" stroke=\"#000000\" d=\"M1312.1669,-88.9777C1299.2143,-79.3629 1285.1465,-68.9203 1272.2867,-59.3743\"/>\n<polygon fill=\"#000000\" stroke=\"#000000\" points=\"1274.1499,-56.3986 1264.0342,-53.2485 1269.9776,-62.0193 1274.1499,-56.3986\"/>\n</g>\n<!-- 20 -->\n<g id=\"node21\" class=\"node\">\n<title>20</title>\n<path fill=\"#eeac7c\" stroke=\"#000000\" d=\"M1439.5,-53C1439.5,-53 1332.5,-53 1332.5,-53 1326.5,-53 1320.5,-47 1320.5,-41 1320.5,-41 1320.5,-12 1320.5,-12 1320.5,-6 1326.5,0 1332.5,0 1332.5,0 1439.5,0 1439.5,0 1445.5,0 1451.5,-6 1451.5,-12 1451.5,-12 1451.5,-41 1451.5,-41 1451.5,-47 1445.5,-53 1439.5,-53\"/>\n<text text-anchor=\"middle\" x=\"1386\" y=\"-37.8\" font-family=\"Helvetica,sans-Serif\" font-size=\"14.00\" fill=\"#000000\">gini = 0.392</text>\n<text text-anchor=\"middle\" x=\"1386\" y=\"-22.8\" font-family=\"Helvetica,sans-Serif\" font-size=\"14.00\" fill=\"#000000\">samples = 58</text>\n<text text-anchor=\"middle\" x=\"1386\" y=\"-7.8\" font-family=\"Helvetica,sans-Serif\" font-size=\"14.00\" fill=\"#000000\">value = [43, 14, 1]</text>\n</g>\n<!-- 18&#45;&gt;20 -->\n<g id=\"edge20\" class=\"edge\">\n<title>18&#45;&gt;20</title>\n<path fill=\"none\" stroke=\"#000000\" d=\"M1367.8718,-88.9777C1370.3161,-80.5533 1372.9449,-71.4934 1375.4215,-62.9579\"/>\n<polygon fill=\"#000000\" stroke=\"#000000\" points=\"1378.8135,-63.8277 1378.2388,-53.2485 1372.0907,-61.877 1378.8135,-63.8277\"/>\n</g>\n<!-- 22 -->\n<g id=\"node23\" class=\"node\">\n<title>22</title>\n<path fill=\"#eda775\" stroke=\"#000000\" d=\"M1588.5,-53C1588.5,-53 1481.5,-53 1481.5,-53 1475.5,-53 1469.5,-47 1469.5,-41 1469.5,-41 1469.5,-12 1469.5,-12 1469.5,-6 1475.5,0 1481.5,0 1481.5,0 1588.5,0 1588.5,0 1594.5,0 1600.5,-6 1600.5,-12 1600.5,-12 1600.5,-41 1600.5,-41 1600.5,-47 1594.5,-53 1588.5,-53\"/>\n<text text-anchor=\"middle\" x=\"1535\" y=\"-37.8\" font-family=\"Helvetica,sans-Serif\" font-size=\"14.00\" fill=\"#000000\">gini = 0.373</text>\n<text text-anchor=\"middle\" x=\"1535\" y=\"-22.8\" font-family=\"Helvetica,sans-Serif\" font-size=\"14.00\" fill=\"#000000\">samples = 122</text>\n<text text-anchor=\"middle\" x=\"1535\" y=\"-7.8\" font-family=\"Helvetica,sans-Serif\" font-size=\"14.00\" fill=\"#000000\">value = [93, 26, 3]</text>\n</g>\n<!-- 21&#45;&gt;22 -->\n<g id=\"edge22\" class=\"edge\">\n<title>21&#45;&gt;22</title>\n<path fill=\"none\" stroke=\"#000000\" d=\"M1553.1282,-88.9777C1550.6839,-80.5533 1548.0551,-71.4934 1545.5785,-62.9579\"/>\n<polygon fill=\"#000000\" stroke=\"#000000\" points=\"1548.9093,-61.877 1542.7612,-53.2485 1542.1865,-63.8277 1548.9093,-61.877\"/>\n</g>\n<!-- 23 -->\n<g id=\"node24\" class=\"node\">\n<title>23</title>\n<path fill=\"#8139e5\" stroke=\"#000000\" d=\"M1721.5,-53C1721.5,-53 1630.5,-53 1630.5,-53 1624.5,-53 1618.5,-47 1618.5,-41 1618.5,-41 1618.5,-12 1618.5,-12 1618.5,-6 1624.5,0 1630.5,0 1630.5,0 1721.5,0 1721.5,0 1727.5,0 1733.5,-6 1733.5,-12 1733.5,-12 1733.5,-41 1733.5,-41 1733.5,-47 1727.5,-53 1721.5,-53\"/>\n<text text-anchor=\"middle\" x=\"1676\" y=\"-37.8\" font-family=\"Helvetica,sans-Serif\" font-size=\"14.00\" fill=\"#000000\">gini = 0.0</text>\n<text text-anchor=\"middle\" x=\"1676\" y=\"-22.8\" font-family=\"Helvetica,sans-Serif\" font-size=\"14.00\" fill=\"#000000\">samples = 2</text>\n<text text-anchor=\"middle\" x=\"1676\" y=\"-7.8\" font-family=\"Helvetica,sans-Serif\" font-size=\"14.00\" fill=\"#000000\">value = [0, 0, 2]</text>\n</g>\n<!-- 21&#45;&gt;23 -->\n<g id=\"edge23\" class=\"edge\">\n<title>21&#45;&gt;23</title>\n<path fill=\"none\" stroke=\"#000000\" d=\"M1602.8396,-88.9777C1613.8839,-79.546 1625.861,-69.3178 1636.8648,-59.9208\"/>\n<polygon fill=\"#000000\" stroke=\"#000000\" points=\"1639.3464,-62.4041 1644.6779,-53.2485 1634.8006,-57.081 1639.3464,-62.4041\"/>\n</g>\n<!-- 25 -->\n<g id=\"node26\" class=\"node\">\n<title>25</title>\n<path fill=\"#e4d4f9\" stroke=\"#000000\" d=\"M1950,-157C1950,-157 1798,-157 1798,-157 1792,-157 1786,-151 1786,-145 1786,-145 1786,-101 1786,-101 1786,-95 1792,-89 1798,-89 1798,-89 1950,-89 1950,-89 1956,-89 1962,-95 1962,-101 1962,-101 1962,-145 1962,-145 1962,-151 1956,-157 1950,-157\"/>\n<text text-anchor=\"middle\" x=\"1874\" y=\"-141.8\" font-family=\"Helvetica,sans-Serif\" font-size=\"14.00\" fill=\"#000000\">PctHousLess3BR &lt;= 3.5</text>\n<text text-anchor=\"middle\" x=\"1874\" y=\"-126.8\" font-family=\"Helvetica,sans-Serif\" font-size=\"14.00\" fill=\"#000000\">gini = 0.578</text>\n<text text-anchor=\"middle\" x=\"1874\" y=\"-111.8\" font-family=\"Helvetica,sans-Serif\" font-size=\"14.00\" fill=\"#000000\">samples = 126</text>\n<text text-anchor=\"middle\" x=\"1874\" y=\"-96.8\" font-family=\"Helvetica,sans-Serif\" font-size=\"14.00\" fill=\"#000000\">value = [13, 48, 65]</text>\n</g>\n<!-- 24&#45;&gt;25 -->\n<g id=\"edge25\" class=\"edge\">\n<title>24&#45;&gt;25</title>\n<path fill=\"none\" stroke=\"#000000\" d=\"M1874,-192.9465C1874,-184.776 1874,-175.9318 1874,-167.3697\"/>\n<polygon fill=\"#000000\" stroke=\"#000000\" points=\"1877.5001,-167.13 1874,-157.13 1870.5001,-167.13 1877.5001,-167.13\"/>\n</g>\n<!-- 28 -->\n<g id=\"node29\" class=\"node\">\n<title>28</title>\n<path fill=\"#ccf8df\" stroke=\"#000000\" d=\"M2181.5,-157C2181.5,-157 2044.5,-157 2044.5,-157 2038.5,-157 2032.5,-151 2032.5,-145 2032.5,-145 2032.5,-101 2032.5,-101 2032.5,-95 2038.5,-89 2044.5,-89 2044.5,-89 2181.5,-89 2181.5,-89 2187.5,-89 2193.5,-95 2193.5,-101 2193.5,-101 2193.5,-145 2193.5,-145 2193.5,-151 2187.5,-157 2181.5,-157\"/>\n<text text-anchor=\"middle\" x=\"2113\" y=\"-141.8\" font-family=\"Helvetica,sans-Serif\" font-size=\"14.00\" fill=\"#000000\">PctSameCity85 &lt;= 1.5</text>\n<text text-anchor=\"middle\" x=\"2113\" y=\"-126.8\" font-family=\"Helvetica,sans-Serif\" font-size=\"14.00\" fill=\"#000000\">gini = 0.637</text>\n<text text-anchor=\"middle\" x=\"2113\" y=\"-111.8\" font-family=\"Helvetica,sans-Serif\" font-size=\"14.00\" fill=\"#000000\">samples = 138</text>\n<text text-anchor=\"middle\" x=\"2113\" y=\"-96.8\" font-family=\"Helvetica,sans-Serif\" font-size=\"14.00\" fill=\"#000000\">value = [40, 65, 33]</text>\n</g>\n<!-- 24&#45;&gt;28 -->\n<g id=\"edge28\" class=\"edge\">\n<title>24&#45;&gt;28</title>\n<path fill=\"none\" stroke=\"#000000\" d=\"M1948.311,-194.6638C1972.7193,-184.0426 2000.0774,-172.1379 2025.3785,-161.1282\"/>\n<polygon fill=\"#000000\" stroke=\"#000000\" points=\"2026.8247,-164.3159 2034.5977,-157.1165 2024.0316,-157.8973 2026.8247,-164.3159\"/>\n</g>\n<!-- 26 -->\n<g id=\"node27\" class=\"node\">\n<title>26</title>\n<path fill=\"#fcfffd\" stroke=\"#000000\" d=\"M1880,-53C1880,-53 1764,-53 1764,-53 1758,-53 1752,-47 1752,-41 1752,-41 1752,-12 1752,-12 1752,-6 1758,0 1764,0 1764,0 1880,0 1880,0 1886,0 1892,-6 1892,-12 1892,-12 1892,-41 1892,-41 1892,-47 1886,-53 1880,-53\"/>\n<text text-anchor=\"middle\" x=\"1822\" y=\"-37.8\" font-family=\"Helvetica,sans-Serif\" font-size=\"14.00\" fill=\"#000000\">gini = 0.602</text>\n<text text-anchor=\"middle\" x=\"1822\" y=\"-22.8\" font-family=\"Helvetica,sans-Serif\" font-size=\"14.00\" fill=\"#000000\">samples = 104</text>\n<text text-anchor=\"middle\" x=\"1822\" y=\"-7.8\" font-family=\"Helvetica,sans-Serif\" font-size=\"14.00\" fill=\"#000000\">value = [13, 46, 45]</text>\n</g>\n<!-- 25&#45;&gt;26 -->\n<g id=\"edge26\" class=\"edge\">\n<title>25&#45;&gt;26</title>\n<path fill=\"none\" stroke=\"#000000\" d=\"M1855.6667,-88.9777C1850.9791,-80.2786 1845.9264,-70.9018 1841.1967,-62.1247\"/>\n<polygon fill=\"#000000\" stroke=\"#000000\" points=\"1844.2386,-60.3914 1836.4137,-53.2485 1838.0763,-63.7121 1844.2386,-60.3914\"/>\n</g>\n<!-- 27 -->\n<g id=\"node28\" class=\"node\">\n<title>27</title>\n<path fill=\"#8e4de8\" stroke=\"#000000\" d=\"M2021.5,-53C2021.5,-53 1922.5,-53 1922.5,-53 1916.5,-53 1910.5,-47 1910.5,-41 1910.5,-41 1910.5,-12 1910.5,-12 1910.5,-6 1916.5,0 1922.5,0 1922.5,0 2021.5,0 2021.5,0 2027.5,0 2033.5,-6 2033.5,-12 2033.5,-12 2033.5,-41 2033.5,-41 2033.5,-47 2027.5,-53 2021.5,-53\"/>\n<text text-anchor=\"middle\" x=\"1972\" y=\"-37.8\" font-family=\"Helvetica,sans-Serif\" font-size=\"14.00\" fill=\"#000000\">gini = 0.165</text>\n<text text-anchor=\"middle\" x=\"1972\" y=\"-22.8\" font-family=\"Helvetica,sans-Serif\" font-size=\"14.00\" fill=\"#000000\">samples = 22</text>\n<text text-anchor=\"middle\" x=\"1972\" y=\"-7.8\" font-family=\"Helvetica,sans-Serif\" font-size=\"14.00\" fill=\"#000000\">value = [0, 2, 20]</text>\n</g>\n<!-- 25&#45;&gt;27 -->\n<g id=\"edge27\" class=\"edge\">\n<title>25&#45;&gt;27</title>\n<path fill=\"none\" stroke=\"#000000\" d=\"M1908.5511,-88.9777C1917.9434,-79.7292 1928.1136,-69.7147 1937.5029,-60.4691\"/>\n<polygon fill=\"#000000\" stroke=\"#000000\" points=\"1940.1661,-62.7587 1944.8357,-53.2485 1935.2546,-57.7709 1940.1661,-62.7587\"/>\n</g>\n<!-- 29 -->\n<g id=\"node30\" class=\"node\">\n<title>29</title>\n<path fill=\"#ea985d\" stroke=\"#000000\" d=\"M2162.5,-53C2162.5,-53 2063.5,-53 2063.5,-53 2057.5,-53 2051.5,-47 2051.5,-41 2051.5,-41 2051.5,-12 2051.5,-12 2051.5,-6 2057.5,0 2063.5,0 2063.5,0 2162.5,0 2162.5,0 2168.5,0 2174.5,-6 2174.5,-12 2174.5,-12 2174.5,-41 2174.5,-41 2174.5,-47 2168.5,-53 2162.5,-53\"/>\n<text text-anchor=\"middle\" x=\"2113\" y=\"-37.8\" font-family=\"Helvetica,sans-Serif\" font-size=\"14.00\" fill=\"#000000\">gini = 0.292</text>\n<text text-anchor=\"middle\" x=\"2113\" y=\"-22.8\" font-family=\"Helvetica,sans-Serif\" font-size=\"14.00\" fill=\"#000000\">samples = 12</text>\n<text text-anchor=\"middle\" x=\"2113\" y=\"-7.8\" font-family=\"Helvetica,sans-Serif\" font-size=\"14.00\" fill=\"#000000\">value = [10, 1, 1]</text>\n</g>\n<!-- 28&#45;&gt;29 -->\n<g id=\"edge29\" class=\"edge\">\n<title>28&#45;&gt;29</title>\n<path fill=\"none\" stroke=\"#000000\" d=\"M2113,-88.9777C2113,-80.7364 2113,-71.887 2113,-63.5153\"/>\n<polygon fill=\"#000000\" stroke=\"#000000\" points=\"2116.5001,-63.2484 2113,-53.2485 2109.5001,-63.2485 2116.5001,-63.2484\"/>\n</g>\n<!-- 30 -->\n<g id=\"node31\" class=\"node\">\n<title>30</title>\n<path fill=\"#bcf6d4\" stroke=\"#000000\" d=\"M2321,-53C2321,-53 2205,-53 2205,-53 2199,-53 2193,-47 2193,-41 2193,-41 2193,-12 2193,-12 2193,-6 2199,0 2205,0 2205,0 2321,0 2321,0 2327,0 2333,-6 2333,-12 2333,-12 2333,-41 2333,-41 2333,-47 2327,-53 2321,-53\"/>\n<text text-anchor=\"middle\" x=\"2263\" y=\"-37.8\" font-family=\"Helvetica,sans-Serif\" font-size=\"14.00\" fill=\"#000000\">gini = 0.621</text>\n<text text-anchor=\"middle\" x=\"2263\" y=\"-22.8\" font-family=\"Helvetica,sans-Serif\" font-size=\"14.00\" fill=\"#000000\">samples = 126</text>\n<text text-anchor=\"middle\" x=\"2263\" y=\"-7.8\" font-family=\"Helvetica,sans-Serif\" font-size=\"14.00\" fill=\"#000000\">value = [30, 64, 32]</text>\n</g>\n<!-- 28&#45;&gt;30 -->\n<g id=\"edge30\" class=\"edge\">\n<title>28&#45;&gt;30</title>\n<path fill=\"none\" stroke=\"#000000\" d=\"M2165.8844,-88.9777C2181.1144,-79.1798 2197.6806,-68.5222 2212.7464,-58.8298\"/>\n<polygon fill=\"#000000\" stroke=\"#000000\" points=\"2214.9057,-61.6024 2221.4221,-53.2485 2211.1184,-55.7154 2214.9057,-61.6024\"/>\n</g>\n</g>\n</svg>\n"
          },
          "metadata": {
            "tags": []
          },
          "execution_count": 69
        }
      ]
    },
    {
      "cell_type": "code",
      "metadata": {
        "colab": {
          "base_uri": "https://localhost:8080/",
          "height": 35
        },
        "id": "3F7fMl96Dk1o",
        "outputId": "31173057-dd43-4149-bb77-bdd41fc9786a"
      },
      "source": [
        "graph.render(\"crime\")"
      ],
      "execution_count": null,
      "outputs": [
        {
          "output_type": "execute_result",
          "data": {
            "application/vnd.google.colaboratory.intrinsic+json": {
              "type": "string"
            },
            "text/plain": [
              "'crime.pdf'"
            ]
          },
          "metadata": {
            "tags": []
          },
          "execution_count": 72
        }
      ]
    }
  ]
}